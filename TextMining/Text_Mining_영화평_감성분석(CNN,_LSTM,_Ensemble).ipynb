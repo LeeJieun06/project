{
  "cells": [
    {
      "cell_type": "markdown",
      "metadata": {
        "id": "8f1c8452"
      },
      "source": [
        "### 네이버 영화평 감성분석"
      ],
      "id": "8f1c8452"
    },
    {
      "cell_type": "code",
      "execution_count": null,
      "metadata": {
        "colab": {
          "base_uri": "https://localhost:8080/"
        },
        "id": "QbVd-6gDj4wb",
        "outputId": "0920d3ed-9c71-4365-c2d3-279ca37c66fb"
      },
      "outputs": [
        {
          "output_type": "stream",
          "name": "stdout",
          "text": [
            "Drive already mounted at /content/drive; to attempt to forcibly remount, call drive.mount(\"/content/drive\", force_remount=True).\n"
          ]
        }
      ],
      "source": [
        "from google.colab import drive\n",
        "drive.mount('/content/drive')"
      ],
      "id": "QbVd-6gDj4wb"
    },
    {
      "cell_type": "markdown",
      "metadata": {
        "id": "KOUJ58DPfc2B"
      },
      "source": [
        "아래 폰트 설치용 코드 실행하고 런타임 다시 시작할것(구글 코랩 기준)"
      ],
      "id": "KOUJ58DPfc2B"
    },
    {
      "cell_type": "code",
      "execution_count": null,
      "metadata": {
        "colab": {
          "base_uri": "https://localhost:8080/"
        },
        "id": "It6w48kmCQJV",
        "outputId": "016113ad-fb41-4123-dd97-7584000db0e2"
      },
      "outputs": [
        {
          "output_type": "stream",
          "name": "stdout",
          "text": [
            "Reading package lists... Done\n",
            "Building dependency tree       \n",
            "Reading state information... Done\n",
            "fonts-nanum is already the newest version (20180306-3).\n",
            "0 upgraded, 0 newly installed, 0 to remove and 46 not upgraded.\n",
            "/usr/share/fonts: caching, new cache contents: 0 fonts, 1 dirs\n",
            "/usr/share/fonts/truetype: caching, new cache contents: 0 fonts, 3 dirs\n",
            "/usr/share/fonts/truetype/humor-sans: caching, new cache contents: 1 fonts, 0 dirs\n",
            "/usr/share/fonts/truetype/liberation: caching, new cache contents: 16 fonts, 0 dirs\n",
            "/usr/share/fonts/truetype/nanum: caching, new cache contents: 10 fonts, 0 dirs\n",
            "/usr/local/share/fonts: caching, new cache contents: 0 fonts, 0 dirs\n",
            "/root/.local/share/fonts: skipping, no such directory\n",
            "/root/.fonts: skipping, no such directory\n",
            "/usr/share/fonts/truetype: skipping, looped directory detected\n",
            "/usr/share/fonts/truetype/humor-sans: skipping, looped directory detected\n",
            "/usr/share/fonts/truetype/liberation: skipping, looped directory detected\n",
            "/usr/share/fonts/truetype/nanum: skipping, looped directory detected\n",
            "/var/cache/fontconfig: cleaning cache directory\n",
            "/root/.cache/fontconfig: not cleaning non-existent cache directory\n",
            "/root/.fontconfig: not cleaning non-existent cache directory\n",
            "fc-cache: succeeded\n"
          ]
        }
      ],
      "source": [
        "#폰트 설치용\n",
        "!sudo apt-get install -y fonts-nanum\n",
        "!sudo fc-cache -fv\n",
        "!rm ~/.cache/matplotlib -rf"
      ],
      "id": "It6w48kmCQJV"
    },
    {
      "cell_type": "code",
      "execution_count": null,
      "metadata": {
        "colab": {
          "base_uri": "https://localhost:8080/"
        },
        "id": "KVCqnPBFf11y",
        "outputId": "28467ef4-2970-4fe9-eca3-ba46ae5ba9de"
      },
      "outputs": [
        {
          "output_type": "stream",
          "name": "stdout",
          "text": [
            "27\n"
          ]
        },
        {
          "output_type": "execute_result",
          "data": {
            "text/plain": [
              "['/usr/share/fonts/truetype/liberation/LiberationSansNarrow-Bold.ttf',\n",
              " '/usr/share/fonts/truetype/nanum/NanumGothic.ttf',\n",
              " '/usr/share/fonts/truetype/nanum/NanumSquareRoundB.ttf',\n",
              " '/usr/share/fonts/truetype/nanum/NanumSquareB.ttf',\n",
              " '/usr/share/fonts/truetype/nanum/NanumSquareRoundR.ttf',\n",
              " '/usr/share/fonts/truetype/liberation/LiberationSansNarrow-BoldItalic.ttf',\n",
              " '/usr/share/fonts/truetype/liberation/LiberationSansNarrow-Regular.ttf',\n",
              " '/usr/share/fonts/truetype/liberation/LiberationSerif-BoldItalic.ttf',\n",
              " '/usr/share/fonts/truetype/nanum/NanumBarunGothic.ttf',\n",
              " '/usr/share/fonts/truetype/humor-sans/Humor-Sans.ttf',\n",
              " '/usr/share/fonts/truetype/liberation/LiberationSansNarrow-Italic.ttf',\n",
              " '/usr/share/fonts/truetype/liberation/LiberationMono-Regular.ttf',\n",
              " '/usr/share/fonts/truetype/liberation/LiberationSans-Italic.ttf',\n",
              " '/usr/share/fonts/truetype/nanum/NanumSquareR.ttf',\n",
              " '/usr/share/fonts/truetype/nanum/NanumGothicBold.ttf',\n",
              " '/usr/share/fonts/truetype/liberation/LiberationMono-Bold.ttf',\n",
              " '/usr/share/fonts/truetype/nanum/NanumMyeongjoBold.ttf',\n",
              " '/usr/share/fonts/truetype/nanum/NanumMyeongjo.ttf',\n",
              " '/usr/share/fonts/truetype/liberation/LiberationSerif-Italic.ttf',\n",
              " '/usr/share/fonts/truetype/nanum/NanumBarunGothicBold.ttf',\n",
              " '/usr/share/fonts/truetype/liberation/LiberationMono-BoldItalic.ttf',\n",
              " '/usr/share/fonts/truetype/liberation/LiberationSans-BoldItalic.ttf',\n",
              " '/usr/share/fonts/truetype/liberation/LiberationSans-Regular.ttf',\n",
              " '/usr/share/fonts/truetype/liberation/LiberationSerif-Regular.ttf',\n",
              " '/usr/share/fonts/truetype/liberation/LiberationSerif-Bold.ttf',\n",
              " '/usr/share/fonts/truetype/liberation/LiberationMono-Italic.ttf',\n",
              " '/usr/share/fonts/truetype/liberation/LiberationSans-Bold.ttf']"
            ]
          },
          "metadata": {},
          "execution_count": 3
        }
      ],
      "source": [
        "#나눔 고딕 폰트가 존재하는지 확인 #27개이면 넘어가면 된다\n",
        "import matplotlib.font_manager as fm\n",
        "\n",
        "font_list = fm.findSystemFonts(fontpaths=None, fontext='ttf')\n",
        "\n",
        "# ttf 폰트 전체갯수\n",
        "print(len(font_list))\n",
        "font_list"
      ],
      "id": "KVCqnPBFf11y"
    },
    {
      "cell_type": "code",
      "execution_count": null,
      "metadata": {
        "id": "3b319ad1"
      },
      "outputs": [],
      "source": [
        "import pandas as pd\n",
        "\n",
        "train_data = pd.read_table('/content/drive/MyDrive/텍스트 분석 개인과제/ratings_train.txt')\n",
        "test_data = pd.read_table('/content/drive/MyDrive/텍스트 분석 개인과제/ratings_test.txt')"
      ],
      "id": "3b319ad1"
    },
    {
      "cell_type": "code",
      "execution_count": null,
      "metadata": {
        "colab": {
          "base_uri": "https://localhost:8080/",
          "height": 225
        },
        "id": "e9043a7d",
        "outputId": "ec68d22d-1ae4-4623-bbc2-a7e183f447b1"
      },
      "outputs": [
        {
          "output_type": "stream",
          "name": "stdout",
          "text": [
            "훈련용 리뷰 개수 : 150000\n"
          ]
        },
        {
          "output_type": "execute_result",
          "data": {
            "text/plain": [
              "         id                                           document  label\n",
              "0   9976970                                아 더빙.. 진짜 짜증나네요 목소리      0\n",
              "1   3819312                  흠...포스터보고 초딩영화줄....오버연기조차 가볍지 않구나      1\n",
              "2  10265843                                  너무재밓었다그래서보는것을추천한다      0\n",
              "3   9045019                      교도소 이야기구먼 ..솔직히 재미는 없다..평점 조정      0\n",
              "4   6483659  사이몬페그의 익살스런 연기가 돋보였던 영화!스파이더맨에서 늙어보이기만 했던 커스틴 ...      1"
            ],
            "text/html": [
              "\n",
              "  <div id=\"df-82c30a5a-e81f-4e41-b54c-0470d36124b2\">\n",
              "    <div class=\"colab-df-container\">\n",
              "      <div>\n",
              "<style scoped>\n",
              "    .dataframe tbody tr th:only-of-type {\n",
              "        vertical-align: middle;\n",
              "    }\n",
              "\n",
              "    .dataframe tbody tr th {\n",
              "        vertical-align: top;\n",
              "    }\n",
              "\n",
              "    .dataframe thead th {\n",
              "        text-align: right;\n",
              "    }\n",
              "</style>\n",
              "<table border=\"1\" class=\"dataframe\">\n",
              "  <thead>\n",
              "    <tr style=\"text-align: right;\">\n",
              "      <th></th>\n",
              "      <th>id</th>\n",
              "      <th>document</th>\n",
              "      <th>label</th>\n",
              "    </tr>\n",
              "  </thead>\n",
              "  <tbody>\n",
              "    <tr>\n",
              "      <th>0</th>\n",
              "      <td>9976970</td>\n",
              "      <td>아 더빙.. 진짜 짜증나네요 목소리</td>\n",
              "      <td>0</td>\n",
              "    </tr>\n",
              "    <tr>\n",
              "      <th>1</th>\n",
              "      <td>3819312</td>\n",
              "      <td>흠...포스터보고 초딩영화줄....오버연기조차 가볍지 않구나</td>\n",
              "      <td>1</td>\n",
              "    </tr>\n",
              "    <tr>\n",
              "      <th>2</th>\n",
              "      <td>10265843</td>\n",
              "      <td>너무재밓었다그래서보는것을추천한다</td>\n",
              "      <td>0</td>\n",
              "    </tr>\n",
              "    <tr>\n",
              "      <th>3</th>\n",
              "      <td>9045019</td>\n",
              "      <td>교도소 이야기구먼 ..솔직히 재미는 없다..평점 조정</td>\n",
              "      <td>0</td>\n",
              "    </tr>\n",
              "    <tr>\n",
              "      <th>4</th>\n",
              "      <td>6483659</td>\n",
              "      <td>사이몬페그의 익살스런 연기가 돋보였던 영화!스파이더맨에서 늙어보이기만 했던 커스틴 ...</td>\n",
              "      <td>1</td>\n",
              "    </tr>\n",
              "  </tbody>\n",
              "</table>\n",
              "</div>\n",
              "      <button class=\"colab-df-convert\" onclick=\"convertToInteractive('df-82c30a5a-e81f-4e41-b54c-0470d36124b2')\"\n",
              "              title=\"Convert this dataframe to an interactive table.\"\n",
              "              style=\"display:none;\">\n",
              "        \n",
              "  <svg xmlns=\"http://www.w3.org/2000/svg\" height=\"24px\"viewBox=\"0 0 24 24\"\n",
              "       width=\"24px\">\n",
              "    <path d=\"M0 0h24v24H0V0z\" fill=\"none\"/>\n",
              "    <path d=\"M18.56 5.44l.94 2.06.94-2.06 2.06-.94-2.06-.94-.94-2.06-.94 2.06-2.06.94zm-11 1L8.5 8.5l.94-2.06 2.06-.94-2.06-.94L8.5 2.5l-.94 2.06-2.06.94zm10 10l.94 2.06.94-2.06 2.06-.94-2.06-.94-.94-2.06-.94 2.06-2.06.94z\"/><path d=\"M17.41 7.96l-1.37-1.37c-.4-.4-.92-.59-1.43-.59-.52 0-1.04.2-1.43.59L10.3 9.45l-7.72 7.72c-.78.78-.78 2.05 0 2.83L4 21.41c.39.39.9.59 1.41.59.51 0 1.02-.2 1.41-.59l7.78-7.78 2.81-2.81c.8-.78.8-2.07 0-2.86zM5.41 20L4 18.59l7.72-7.72 1.47 1.35L5.41 20z\"/>\n",
              "  </svg>\n",
              "      </button>\n",
              "      \n",
              "  <style>\n",
              "    .colab-df-container {\n",
              "      display:flex;\n",
              "      flex-wrap:wrap;\n",
              "      gap: 12px;\n",
              "    }\n",
              "\n",
              "    .colab-df-convert {\n",
              "      background-color: #E8F0FE;\n",
              "      border: none;\n",
              "      border-radius: 50%;\n",
              "      cursor: pointer;\n",
              "      display: none;\n",
              "      fill: #1967D2;\n",
              "      height: 32px;\n",
              "      padding: 0 0 0 0;\n",
              "      width: 32px;\n",
              "    }\n",
              "\n",
              "    .colab-df-convert:hover {\n",
              "      background-color: #E2EBFA;\n",
              "      box-shadow: 0px 1px 2px rgba(60, 64, 67, 0.3), 0px 1px 3px 1px rgba(60, 64, 67, 0.15);\n",
              "      fill: #174EA6;\n",
              "    }\n",
              "\n",
              "    [theme=dark] .colab-df-convert {\n",
              "      background-color: #3B4455;\n",
              "      fill: #D2E3FC;\n",
              "    }\n",
              "\n",
              "    [theme=dark] .colab-df-convert:hover {\n",
              "      background-color: #434B5C;\n",
              "      box-shadow: 0px 1px 3px 1px rgba(0, 0, 0, 0.15);\n",
              "      filter: drop-shadow(0px 1px 2px rgba(0, 0, 0, 0.3));\n",
              "      fill: #FFFFFF;\n",
              "    }\n",
              "  </style>\n",
              "\n",
              "      <script>\n",
              "        const buttonEl =\n",
              "          document.querySelector('#df-82c30a5a-e81f-4e41-b54c-0470d36124b2 button.colab-df-convert');\n",
              "        buttonEl.style.display =\n",
              "          google.colab.kernel.accessAllowed ? 'block' : 'none';\n",
              "\n",
              "        async function convertToInteractive(key) {\n",
              "          const element = document.querySelector('#df-82c30a5a-e81f-4e41-b54c-0470d36124b2');\n",
              "          const dataTable =\n",
              "            await google.colab.kernel.invokeFunction('convertToInteractive',\n",
              "                                                     [key], {});\n",
              "          if (!dataTable) return;\n",
              "\n",
              "          const docLinkHtml = 'Like what you see? Visit the ' +\n",
              "            '<a target=\"_blank\" href=https://colab.research.google.com/notebooks/data_table.ipynb>data table notebook</a>'\n",
              "            + ' to learn more about interactive tables.';\n",
              "          element.innerHTML = '';\n",
              "          dataTable['output_type'] = 'display_data';\n",
              "          await google.colab.output.renderOutput(dataTable, element);\n",
              "          const docLink = document.createElement('div');\n",
              "          docLink.innerHTML = docLinkHtml;\n",
              "          element.appendChild(docLink);\n",
              "        }\n",
              "      </script>\n",
              "    </div>\n",
              "  </div>\n",
              "  "
            ]
          },
          "metadata": {},
          "execution_count": 5
        }
      ],
      "source": [
        "print('훈련용 리뷰 개수 :',len(train_data)) # 훈련용 리뷰 개수 출력\n",
        "train_data[:5] # 상위 5개 출력"
      ],
      "id": "e9043a7d"
    },
    {
      "cell_type": "code",
      "execution_count": null,
      "metadata": {
        "colab": {
          "base_uri": "https://localhost:8080/",
          "height": 225
        },
        "id": "25746d02",
        "outputId": "34e1e712-2124-43a4-e9b8-98cdf4aea205"
      },
      "outputs": [
        {
          "output_type": "stream",
          "name": "stdout",
          "text": [
            "테스트용 리뷰 개수 : 50000\n"
          ]
        },
        {
          "output_type": "execute_result",
          "data": {
            "text/plain": [
              "        id                                           document  label\n",
              "0  6270596                                                굳 ㅋ      1\n",
              "1  9274899                               GDNTOPCLASSINTHECLUB      0\n",
              "2  8544678             뭐야 이 평점들은.... 나쁘진 않지만 10점 짜리는 더더욱 아니잖아      0\n",
              "3  6825595                   지루하지는 않은데 완전 막장임... 돈주고 보기에는....      0\n",
              "4  6723715  3D만 아니었어도 별 다섯 개 줬을텐데.. 왜 3D로 나와서 제 심기를 불편하게 하죠??      0"
            ],
            "text/html": [
              "\n",
              "  <div id=\"df-835b9659-6e06-4ed1-8ad4-67c510803e1b\">\n",
              "    <div class=\"colab-df-container\">\n",
              "      <div>\n",
              "<style scoped>\n",
              "    .dataframe tbody tr th:only-of-type {\n",
              "        vertical-align: middle;\n",
              "    }\n",
              "\n",
              "    .dataframe tbody tr th {\n",
              "        vertical-align: top;\n",
              "    }\n",
              "\n",
              "    .dataframe thead th {\n",
              "        text-align: right;\n",
              "    }\n",
              "</style>\n",
              "<table border=\"1\" class=\"dataframe\">\n",
              "  <thead>\n",
              "    <tr style=\"text-align: right;\">\n",
              "      <th></th>\n",
              "      <th>id</th>\n",
              "      <th>document</th>\n",
              "      <th>label</th>\n",
              "    </tr>\n",
              "  </thead>\n",
              "  <tbody>\n",
              "    <tr>\n",
              "      <th>0</th>\n",
              "      <td>6270596</td>\n",
              "      <td>굳 ㅋ</td>\n",
              "      <td>1</td>\n",
              "    </tr>\n",
              "    <tr>\n",
              "      <th>1</th>\n",
              "      <td>9274899</td>\n",
              "      <td>GDNTOPCLASSINTHECLUB</td>\n",
              "      <td>0</td>\n",
              "    </tr>\n",
              "    <tr>\n",
              "      <th>2</th>\n",
              "      <td>8544678</td>\n",
              "      <td>뭐야 이 평점들은.... 나쁘진 않지만 10점 짜리는 더더욱 아니잖아</td>\n",
              "      <td>0</td>\n",
              "    </tr>\n",
              "    <tr>\n",
              "      <th>3</th>\n",
              "      <td>6825595</td>\n",
              "      <td>지루하지는 않은데 완전 막장임... 돈주고 보기에는....</td>\n",
              "      <td>0</td>\n",
              "    </tr>\n",
              "    <tr>\n",
              "      <th>4</th>\n",
              "      <td>6723715</td>\n",
              "      <td>3D만 아니었어도 별 다섯 개 줬을텐데.. 왜 3D로 나와서 제 심기를 불편하게 하죠??</td>\n",
              "      <td>0</td>\n",
              "    </tr>\n",
              "  </tbody>\n",
              "</table>\n",
              "</div>\n",
              "      <button class=\"colab-df-convert\" onclick=\"convertToInteractive('df-835b9659-6e06-4ed1-8ad4-67c510803e1b')\"\n",
              "              title=\"Convert this dataframe to an interactive table.\"\n",
              "              style=\"display:none;\">\n",
              "        \n",
              "  <svg xmlns=\"http://www.w3.org/2000/svg\" height=\"24px\"viewBox=\"0 0 24 24\"\n",
              "       width=\"24px\">\n",
              "    <path d=\"M0 0h24v24H0V0z\" fill=\"none\"/>\n",
              "    <path d=\"M18.56 5.44l.94 2.06.94-2.06 2.06-.94-2.06-.94-.94-2.06-.94 2.06-2.06.94zm-11 1L8.5 8.5l.94-2.06 2.06-.94-2.06-.94L8.5 2.5l-.94 2.06-2.06.94zm10 10l.94 2.06.94-2.06 2.06-.94-2.06-.94-.94-2.06-.94 2.06-2.06.94z\"/><path d=\"M17.41 7.96l-1.37-1.37c-.4-.4-.92-.59-1.43-.59-.52 0-1.04.2-1.43.59L10.3 9.45l-7.72 7.72c-.78.78-.78 2.05 0 2.83L4 21.41c.39.39.9.59 1.41.59.51 0 1.02-.2 1.41-.59l7.78-7.78 2.81-2.81c.8-.78.8-2.07 0-2.86zM5.41 20L4 18.59l7.72-7.72 1.47 1.35L5.41 20z\"/>\n",
              "  </svg>\n",
              "      </button>\n",
              "      \n",
              "  <style>\n",
              "    .colab-df-container {\n",
              "      display:flex;\n",
              "      flex-wrap:wrap;\n",
              "      gap: 12px;\n",
              "    }\n",
              "\n",
              "    .colab-df-convert {\n",
              "      background-color: #E8F0FE;\n",
              "      border: none;\n",
              "      border-radius: 50%;\n",
              "      cursor: pointer;\n",
              "      display: none;\n",
              "      fill: #1967D2;\n",
              "      height: 32px;\n",
              "      padding: 0 0 0 0;\n",
              "      width: 32px;\n",
              "    }\n",
              "\n",
              "    .colab-df-convert:hover {\n",
              "      background-color: #E2EBFA;\n",
              "      box-shadow: 0px 1px 2px rgba(60, 64, 67, 0.3), 0px 1px 3px 1px rgba(60, 64, 67, 0.15);\n",
              "      fill: #174EA6;\n",
              "    }\n",
              "\n",
              "    [theme=dark] .colab-df-convert {\n",
              "      background-color: #3B4455;\n",
              "      fill: #D2E3FC;\n",
              "    }\n",
              "\n",
              "    [theme=dark] .colab-df-convert:hover {\n",
              "      background-color: #434B5C;\n",
              "      box-shadow: 0px 1px 3px 1px rgba(0, 0, 0, 0.15);\n",
              "      filter: drop-shadow(0px 1px 2px rgba(0, 0, 0, 0.3));\n",
              "      fill: #FFFFFF;\n",
              "    }\n",
              "  </style>\n",
              "\n",
              "      <script>\n",
              "        const buttonEl =\n",
              "          document.querySelector('#df-835b9659-6e06-4ed1-8ad4-67c510803e1b button.colab-df-convert');\n",
              "        buttonEl.style.display =\n",
              "          google.colab.kernel.accessAllowed ? 'block' : 'none';\n",
              "\n",
              "        async function convertToInteractive(key) {\n",
              "          const element = document.querySelector('#df-835b9659-6e06-4ed1-8ad4-67c510803e1b');\n",
              "          const dataTable =\n",
              "            await google.colab.kernel.invokeFunction('convertToInteractive',\n",
              "                                                     [key], {});\n",
              "          if (!dataTable) return;\n",
              "\n",
              "          const docLinkHtml = 'Like what you see? Visit the ' +\n",
              "            '<a target=\"_blank\" href=https://colab.research.google.com/notebooks/data_table.ipynb>data table notebook</a>'\n",
              "            + ' to learn more about interactive tables.';\n",
              "          element.innerHTML = '';\n",
              "          dataTable['output_type'] = 'display_data';\n",
              "          await google.colab.output.renderOutput(dataTable, element);\n",
              "          const docLink = document.createElement('div');\n",
              "          docLink.innerHTML = docLinkHtml;\n",
              "          element.appendChild(docLink);\n",
              "        }\n",
              "      </script>\n",
              "    </div>\n",
              "  </div>\n",
              "  "
            ]
          },
          "metadata": {},
          "execution_count": 6
        }
      ],
      "source": [
        "print('테스트용 리뷰 개수 :',len(test_data)) # 테스트용 리뷰 개수 출력\n",
        "test_data[:5]"
      ],
      "id": "25746d02"
    },
    {
      "cell_type": "code",
      "execution_count": null,
      "metadata": {
        "colab": {
          "base_uri": "https://localhost:8080/"
        },
        "id": "25e19c48",
        "outputId": "f9b4b4ff-7194-49b9-cd61-a13e9d20ce8b"
      },
      "outputs": [
        {
          "output_type": "execute_result",
          "data": {
            "text/plain": [
              "(146182, 2)"
            ]
          },
          "metadata": {},
          "execution_count": 7
        }
      ],
      "source": [
        "# document 열과 label 열의 중복을 제외한 값의 개수\n",
        "train_data['document'].nunique(), train_data['label'].nunique()"
      ],
      "id": "25e19c48"
    },
    {
      "cell_type": "code",
      "execution_count": null,
      "metadata": {
        "colab": {
          "base_uri": "https://localhost:8080/"
        },
        "id": "BswxKSKVd7YS",
        "outputId": "038cf0c3-8b81-4be0-ac96-0c8e9916563c"
      },
      "outputs": [
        {
          "output_type": "execute_result",
          "data": {
            "text/plain": [
              "(49157, 2)"
            ]
          },
          "metadata": {},
          "execution_count": 8
        }
      ],
      "source": [
        "test_data['document'].nunique(), test_data['label'].nunique()"
      ],
      "id": "BswxKSKVd7YS"
    },
    {
      "cell_type": "code",
      "execution_count": null,
      "metadata": {
        "colab": {
          "base_uri": "https://localhost:8080/",
          "height": 206
        },
        "id": "16d79d1b",
        "outputId": "b69a0632-bfce-4029-8d85-f0e71afcdc4c"
      },
      "outputs": [
        {
          "output_type": "execute_result",
          "data": {
            "text/plain": [
              "         id                                           document  label\n",
              "0   9976970                                아 더빙.. 진짜 짜증나네요 목소리      0\n",
              "1   3819312                  흠...포스터보고 초딩영화줄....오버연기조차 가볍지 않구나      1\n",
              "2  10265843                                  너무재밓었다그래서보는것을추천한다      0\n",
              "3   9045019                      교도소 이야기구먼 ..솔직히 재미는 없다..평점 조정      0\n",
              "4   6483659  사이몬페그의 익살스런 연기가 돋보였던 영화!스파이더맨에서 늙어보이기만 했던 커스틴 ...      1"
            ],
            "text/html": [
              "\n",
              "  <div id=\"df-c041961f-552b-49ed-8326-7f39339089f5\">\n",
              "    <div class=\"colab-df-container\">\n",
              "      <div>\n",
              "<style scoped>\n",
              "    .dataframe tbody tr th:only-of-type {\n",
              "        vertical-align: middle;\n",
              "    }\n",
              "\n",
              "    .dataframe tbody tr th {\n",
              "        vertical-align: top;\n",
              "    }\n",
              "\n",
              "    .dataframe thead th {\n",
              "        text-align: right;\n",
              "    }\n",
              "</style>\n",
              "<table border=\"1\" class=\"dataframe\">\n",
              "  <thead>\n",
              "    <tr style=\"text-align: right;\">\n",
              "      <th></th>\n",
              "      <th>id</th>\n",
              "      <th>document</th>\n",
              "      <th>label</th>\n",
              "    </tr>\n",
              "  </thead>\n",
              "  <tbody>\n",
              "    <tr>\n",
              "      <th>0</th>\n",
              "      <td>9976970</td>\n",
              "      <td>아 더빙.. 진짜 짜증나네요 목소리</td>\n",
              "      <td>0</td>\n",
              "    </tr>\n",
              "    <tr>\n",
              "      <th>1</th>\n",
              "      <td>3819312</td>\n",
              "      <td>흠...포스터보고 초딩영화줄....오버연기조차 가볍지 않구나</td>\n",
              "      <td>1</td>\n",
              "    </tr>\n",
              "    <tr>\n",
              "      <th>2</th>\n",
              "      <td>10265843</td>\n",
              "      <td>너무재밓었다그래서보는것을추천한다</td>\n",
              "      <td>0</td>\n",
              "    </tr>\n",
              "    <tr>\n",
              "      <th>3</th>\n",
              "      <td>9045019</td>\n",
              "      <td>교도소 이야기구먼 ..솔직히 재미는 없다..평점 조정</td>\n",
              "      <td>0</td>\n",
              "    </tr>\n",
              "    <tr>\n",
              "      <th>4</th>\n",
              "      <td>6483659</td>\n",
              "      <td>사이몬페그의 익살스런 연기가 돋보였던 영화!스파이더맨에서 늙어보이기만 했던 커스틴 ...</td>\n",
              "      <td>1</td>\n",
              "    </tr>\n",
              "  </tbody>\n",
              "</table>\n",
              "</div>\n",
              "      <button class=\"colab-df-convert\" onclick=\"convertToInteractive('df-c041961f-552b-49ed-8326-7f39339089f5')\"\n",
              "              title=\"Convert this dataframe to an interactive table.\"\n",
              "              style=\"display:none;\">\n",
              "        \n",
              "  <svg xmlns=\"http://www.w3.org/2000/svg\" height=\"24px\"viewBox=\"0 0 24 24\"\n",
              "       width=\"24px\">\n",
              "    <path d=\"M0 0h24v24H0V0z\" fill=\"none\"/>\n",
              "    <path d=\"M18.56 5.44l.94 2.06.94-2.06 2.06-.94-2.06-.94-.94-2.06-.94 2.06-2.06.94zm-11 1L8.5 8.5l.94-2.06 2.06-.94-2.06-.94L8.5 2.5l-.94 2.06-2.06.94zm10 10l.94 2.06.94-2.06 2.06-.94-2.06-.94-.94-2.06-.94 2.06-2.06.94z\"/><path d=\"M17.41 7.96l-1.37-1.37c-.4-.4-.92-.59-1.43-.59-.52 0-1.04.2-1.43.59L10.3 9.45l-7.72 7.72c-.78.78-.78 2.05 0 2.83L4 21.41c.39.39.9.59 1.41.59.51 0 1.02-.2 1.41-.59l7.78-7.78 2.81-2.81c.8-.78.8-2.07 0-2.86zM5.41 20L4 18.59l7.72-7.72 1.47 1.35L5.41 20z\"/>\n",
              "  </svg>\n",
              "      </button>\n",
              "      \n",
              "  <style>\n",
              "    .colab-df-container {\n",
              "      display:flex;\n",
              "      flex-wrap:wrap;\n",
              "      gap: 12px;\n",
              "    }\n",
              "\n",
              "    .colab-df-convert {\n",
              "      background-color: #E8F0FE;\n",
              "      border: none;\n",
              "      border-radius: 50%;\n",
              "      cursor: pointer;\n",
              "      display: none;\n",
              "      fill: #1967D2;\n",
              "      height: 32px;\n",
              "      padding: 0 0 0 0;\n",
              "      width: 32px;\n",
              "    }\n",
              "\n",
              "    .colab-df-convert:hover {\n",
              "      background-color: #E2EBFA;\n",
              "      box-shadow: 0px 1px 2px rgba(60, 64, 67, 0.3), 0px 1px 3px 1px rgba(60, 64, 67, 0.15);\n",
              "      fill: #174EA6;\n",
              "    }\n",
              "\n",
              "    [theme=dark] .colab-df-convert {\n",
              "      background-color: #3B4455;\n",
              "      fill: #D2E3FC;\n",
              "    }\n",
              "\n",
              "    [theme=dark] .colab-df-convert:hover {\n",
              "      background-color: #434B5C;\n",
              "      box-shadow: 0px 1px 3px 1px rgba(0, 0, 0, 0.15);\n",
              "      filter: drop-shadow(0px 1px 2px rgba(0, 0, 0, 0.3));\n",
              "      fill: #FFFFFF;\n",
              "    }\n",
              "  </style>\n",
              "\n",
              "      <script>\n",
              "        const buttonEl =\n",
              "          document.querySelector('#df-c041961f-552b-49ed-8326-7f39339089f5 button.colab-df-convert');\n",
              "        buttonEl.style.display =\n",
              "          google.colab.kernel.accessAllowed ? 'block' : 'none';\n",
              "\n",
              "        async function convertToInteractive(key) {\n",
              "          const element = document.querySelector('#df-c041961f-552b-49ed-8326-7f39339089f5');\n",
              "          const dataTable =\n",
              "            await google.colab.kernel.invokeFunction('convertToInteractive',\n",
              "                                                     [key], {});\n",
              "          if (!dataTable) return;\n",
              "\n",
              "          const docLinkHtml = 'Like what you see? Visit the ' +\n",
              "            '<a target=\"_blank\" href=https://colab.research.google.com/notebooks/data_table.ipynb>data table notebook</a>'\n",
              "            + ' to learn more about interactive tables.';\n",
              "          element.innerHTML = '';\n",
              "          dataTable['output_type'] = 'display_data';\n",
              "          await google.colab.output.renderOutput(dataTable, element);\n",
              "          const docLink = document.createElement('div');\n",
              "          docLink.innerHTML = docLinkHtml;\n",
              "          element.appendChild(docLink);\n",
              "        }\n",
              "      </script>\n",
              "    </div>\n",
              "  </div>\n",
              "  "
            ]
          },
          "metadata": {},
          "execution_count": 9
        }
      ],
      "source": [
        "# document 열 기준 중복 제거\n",
        "train_data.drop_duplicates(subset=['document'], inplace=True, ignore_index=True)\n",
        "# inplace=True : 원본 데이터프레임 변경\n",
        "# ignore_index=True : 결과 데이터프레임의 보존 행 인덱스를 0, 1, 2, ... , n으로 재설정\n",
        "\n",
        "train_data[:5]"
      ],
      "id": "16d79d1b"
    },
    {
      "cell_type": "code",
      "execution_count": null,
      "metadata": {
        "colab": {
          "base_uri": "https://localhost:8080/",
          "height": 206
        },
        "id": "IFM1O2IFeDYv",
        "outputId": "96ad6c27-708c-4824-d992-18e31deaa64d"
      },
      "outputs": [
        {
          "output_type": "execute_result",
          "data": {
            "text/plain": [
              "        id                                           document  label\n",
              "0  6270596                                                굳 ㅋ      1\n",
              "1  9274899                               GDNTOPCLASSINTHECLUB      0\n",
              "2  8544678             뭐야 이 평점들은.... 나쁘진 않지만 10점 짜리는 더더욱 아니잖아      0\n",
              "3  6825595                   지루하지는 않은데 완전 막장임... 돈주고 보기에는....      0\n",
              "4  6723715  3D만 아니었어도 별 다섯 개 줬을텐데.. 왜 3D로 나와서 제 심기를 불편하게 하죠??      0"
            ],
            "text/html": [
              "\n",
              "  <div id=\"df-8be09133-487e-4cef-8053-77cf7e8e49d3\">\n",
              "    <div class=\"colab-df-container\">\n",
              "      <div>\n",
              "<style scoped>\n",
              "    .dataframe tbody tr th:only-of-type {\n",
              "        vertical-align: middle;\n",
              "    }\n",
              "\n",
              "    .dataframe tbody tr th {\n",
              "        vertical-align: top;\n",
              "    }\n",
              "\n",
              "    .dataframe thead th {\n",
              "        text-align: right;\n",
              "    }\n",
              "</style>\n",
              "<table border=\"1\" class=\"dataframe\">\n",
              "  <thead>\n",
              "    <tr style=\"text-align: right;\">\n",
              "      <th></th>\n",
              "      <th>id</th>\n",
              "      <th>document</th>\n",
              "      <th>label</th>\n",
              "    </tr>\n",
              "  </thead>\n",
              "  <tbody>\n",
              "    <tr>\n",
              "      <th>0</th>\n",
              "      <td>6270596</td>\n",
              "      <td>굳 ㅋ</td>\n",
              "      <td>1</td>\n",
              "    </tr>\n",
              "    <tr>\n",
              "      <th>1</th>\n",
              "      <td>9274899</td>\n",
              "      <td>GDNTOPCLASSINTHECLUB</td>\n",
              "      <td>0</td>\n",
              "    </tr>\n",
              "    <tr>\n",
              "      <th>2</th>\n",
              "      <td>8544678</td>\n",
              "      <td>뭐야 이 평점들은.... 나쁘진 않지만 10점 짜리는 더더욱 아니잖아</td>\n",
              "      <td>0</td>\n",
              "    </tr>\n",
              "    <tr>\n",
              "      <th>3</th>\n",
              "      <td>6825595</td>\n",
              "      <td>지루하지는 않은데 완전 막장임... 돈주고 보기에는....</td>\n",
              "      <td>0</td>\n",
              "    </tr>\n",
              "    <tr>\n",
              "      <th>4</th>\n",
              "      <td>6723715</td>\n",
              "      <td>3D만 아니었어도 별 다섯 개 줬을텐데.. 왜 3D로 나와서 제 심기를 불편하게 하죠??</td>\n",
              "      <td>0</td>\n",
              "    </tr>\n",
              "  </tbody>\n",
              "</table>\n",
              "</div>\n",
              "      <button class=\"colab-df-convert\" onclick=\"convertToInteractive('df-8be09133-487e-4cef-8053-77cf7e8e49d3')\"\n",
              "              title=\"Convert this dataframe to an interactive table.\"\n",
              "              style=\"display:none;\">\n",
              "        \n",
              "  <svg xmlns=\"http://www.w3.org/2000/svg\" height=\"24px\"viewBox=\"0 0 24 24\"\n",
              "       width=\"24px\">\n",
              "    <path d=\"M0 0h24v24H0V0z\" fill=\"none\"/>\n",
              "    <path d=\"M18.56 5.44l.94 2.06.94-2.06 2.06-.94-2.06-.94-.94-2.06-.94 2.06-2.06.94zm-11 1L8.5 8.5l.94-2.06 2.06-.94-2.06-.94L8.5 2.5l-.94 2.06-2.06.94zm10 10l.94 2.06.94-2.06 2.06-.94-2.06-.94-.94-2.06-.94 2.06-2.06.94z\"/><path d=\"M17.41 7.96l-1.37-1.37c-.4-.4-.92-.59-1.43-.59-.52 0-1.04.2-1.43.59L10.3 9.45l-7.72 7.72c-.78.78-.78 2.05 0 2.83L4 21.41c.39.39.9.59 1.41.59.51 0 1.02-.2 1.41-.59l7.78-7.78 2.81-2.81c.8-.78.8-2.07 0-2.86zM5.41 20L4 18.59l7.72-7.72 1.47 1.35L5.41 20z\"/>\n",
              "  </svg>\n",
              "      </button>\n",
              "      \n",
              "  <style>\n",
              "    .colab-df-container {\n",
              "      display:flex;\n",
              "      flex-wrap:wrap;\n",
              "      gap: 12px;\n",
              "    }\n",
              "\n",
              "    .colab-df-convert {\n",
              "      background-color: #E8F0FE;\n",
              "      border: none;\n",
              "      border-radius: 50%;\n",
              "      cursor: pointer;\n",
              "      display: none;\n",
              "      fill: #1967D2;\n",
              "      height: 32px;\n",
              "      padding: 0 0 0 0;\n",
              "      width: 32px;\n",
              "    }\n",
              "\n",
              "    .colab-df-convert:hover {\n",
              "      background-color: #E2EBFA;\n",
              "      box-shadow: 0px 1px 2px rgba(60, 64, 67, 0.3), 0px 1px 3px 1px rgba(60, 64, 67, 0.15);\n",
              "      fill: #174EA6;\n",
              "    }\n",
              "\n",
              "    [theme=dark] .colab-df-convert {\n",
              "      background-color: #3B4455;\n",
              "      fill: #D2E3FC;\n",
              "    }\n",
              "\n",
              "    [theme=dark] .colab-df-convert:hover {\n",
              "      background-color: #434B5C;\n",
              "      box-shadow: 0px 1px 3px 1px rgba(0, 0, 0, 0.15);\n",
              "      filter: drop-shadow(0px 1px 2px rgba(0, 0, 0, 0.3));\n",
              "      fill: #FFFFFF;\n",
              "    }\n",
              "  </style>\n",
              "\n",
              "      <script>\n",
              "        const buttonEl =\n",
              "          document.querySelector('#df-8be09133-487e-4cef-8053-77cf7e8e49d3 button.colab-df-convert');\n",
              "        buttonEl.style.display =\n",
              "          google.colab.kernel.accessAllowed ? 'block' : 'none';\n",
              "\n",
              "        async function convertToInteractive(key) {\n",
              "          const element = document.querySelector('#df-8be09133-487e-4cef-8053-77cf7e8e49d3');\n",
              "          const dataTable =\n",
              "            await google.colab.kernel.invokeFunction('convertToInteractive',\n",
              "                                                     [key], {});\n",
              "          if (!dataTable) return;\n",
              "\n",
              "          const docLinkHtml = 'Like what you see? Visit the ' +\n",
              "            '<a target=\"_blank\" href=https://colab.research.google.com/notebooks/data_table.ipynb>data table notebook</a>'\n",
              "            + ' to learn more about interactive tables.';\n",
              "          element.innerHTML = '';\n",
              "          dataTable['output_type'] = 'display_data';\n",
              "          await google.colab.output.renderOutput(dataTable, element);\n",
              "          const docLink = document.createElement('div');\n",
              "          docLink.innerHTML = docLinkHtml;\n",
              "          element.appendChild(docLink);\n",
              "        }\n",
              "      </script>\n",
              "    </div>\n",
              "  </div>\n",
              "  "
            ]
          },
          "metadata": {},
          "execution_count": 10
        }
      ],
      "source": [
        "test_data.drop_duplicates(subset=['document'], inplace=True, ignore_index=True)\n",
        "test_data[:5]"
      ],
      "id": "IFM1O2IFeDYv"
    },
    {
      "cell_type": "code",
      "execution_count": null,
      "metadata": {
        "colab": {
          "base_uri": "https://localhost:8080/"
        },
        "id": "99198cb3",
        "outputId": "f3119e1d-a8b0-4c18-c569-6a27900743ba",
        "scrolled": true
      },
      "outputs": [
        {
          "output_type": "stream",
          "name": "stdout",
          "text": [
            "id          0\n",
            "document    1\n",
            "label       0\n",
            "dtype: int64\n"
          ]
        }
      ],
      "source": [
        "# Null 값 존재 확인\n",
        "print(train_data.isnull().sum())"
      ],
      "id": "99198cb3"
    },
    {
      "cell_type": "code",
      "execution_count": null,
      "metadata": {
        "id": "e163e865"
      },
      "outputs": [],
      "source": [
        "train_data = train_data.dropna(how = 'any') # Null 값이 존재하는 행 제거\n",
        "test_data = test_data.dropna(how = 'any') # Null 값이 존재하는 행 제거"
      ],
      "id": "e163e865"
    },
    {
      "cell_type": "code",
      "execution_count": null,
      "metadata": {
        "colab": {
          "base_uri": "https://localhost:8080/"
        },
        "id": "c667ca36",
        "outputId": "2025388e-ce9b-46bf-9d14-64210a1d209e"
      },
      "outputs": [
        {
          "output_type": "stream",
          "name": "stdout",
          "text": [
            "id          0\n",
            "document    0\n",
            "label       0\n",
            "dtype: int64\n"
          ]
        }
      ],
      "source": [
        "# Null 값 제거 후 확인\n",
        "print(train_data.isnull().sum())"
      ],
      "id": "c667ca36"
    },
    {
      "cell_type": "code",
      "execution_count": null,
      "metadata": {
        "colab": {
          "base_uri": "https://localhost:8080/"
        },
        "id": "dc43614c",
        "outputId": "3886d598-4902-435b-cf64-21004f1050a6"
      },
      "outputs": [
        {
          "output_type": "execute_result",
          "data": {
            "text/plain": [
              "0    73342\n",
              "1    72840\n",
              "Name: label, dtype: int64"
            ]
          },
          "metadata": {},
          "execution_count": 14
        }
      ],
      "source": [
        "# 클래스 레이블 분포 확인\n",
        "train_data['label'].value_counts()"
      ],
      "id": "dc43614c"
    },
    {
      "cell_type": "code",
      "execution_count": null,
      "metadata": {
        "colab": {
          "base_uri": "https://localhost:8080/",
          "height": 425
        },
        "id": "aedec8ef",
        "outputId": "0538d85d-7197-4c08-d1bf-7f2080d03e13"
      },
      "outputs": [
        {
          "output_type": "display_data",
          "data": {
            "text/plain": [
              "<Figure size 640x480 with 1 Axes>"
            ],
            "image/png": "[encoded data removed]"
          },
          "metadata": {}
        }
      ],
      "source": [
        "# 클래스 레이블 분포 시각화\n",
        "train_data['label'].value_counts().plot(kind = 'bar');"
      ],
      "id": "aedec8ef"
    },
    {
      "cell_type": "code",
      "execution_count": null,
      "metadata": {
        "colab": {
          "base_uri": "https://localhost:8080/"
        },
        "id": "1b4e65d3",
        "outputId": "8488facd-4dd9-4ccf-8729-682361e1ff7d"
      },
      "outputs": [
        {
          "output_type": "stream",
          "name": "stdout",
          "text": [
            "훈련 데이터 총 샘플의 수 : 146182\n"
          ]
        }
      ],
      "source": [
        "print('훈련 데이터 총 샘플의 수 :',len(train_data))"
      ],
      "id": "1b4e65d3"
    },
    {
      "cell_type": "code",
      "execution_count": null,
      "metadata": {
        "colab": {
          "base_uri": "https://localhost:8080/"
        },
        "id": "wwiAzX29tu0G",
        "outputId": "f191b154-651f-46a7-f89e-4d26a6fe66d8"
      },
      "outputs": [
        {
          "output_type": "stream",
          "name": "stdout",
          "text": [
            "Looking in indexes: https://pypi.org/simple, https://us-python.pkg.dev/colab-wheels/public/simple/\n",
            "Requirement already satisfied: konlpy in /usr/local/lib/python3.10/dist-packages (0.6.0)\n",
            "Requirement already satisfied: JPype1>=0.7.0 in /usr/local/lib/python3.10/dist-packages (from konlpy) (1.4.1)\n",
            "Requirement already satisfied: lxml>=4.1.0 in /usr/local/lib/python3.10/dist-packages (from konlpy) (4.9.2)\n",
            "Requirement already satisfied: numpy>=1.6 in /usr/local/lib/python3.10/dist-packages (from konlpy) (1.22.4)\n",
            "Requirement already satisfied: packaging in /usr/local/lib/python3.10/dist-packages (from JPype1>=0.7.0->konlpy) (23.1)\n"
          ]
        }
      ],
      "source": [
        "!pip install konlpy"
      ],
      "id": "wwiAzX29tu0G"
    },
    {
      "cell_type": "code",
      "execution_count": null,
      "metadata": {
        "id": "T4sDmr1MtOWG"
      },
      "outputs": [],
      "source": [
        "import numpy as np\n",
        "import pandas as pd\n",
        "import re\n",
        "import json\n",
        "from konlpy.tag import Okt\n",
        "from tensorflow.keras.preprocessing.sequence import pad_sequences\n",
        "from tensorflow.keras.preprocessing.text import Tokenizer"
      ],
      "id": "T4sDmr1MtOWG"
    },
    {
      "cell_type": "markdown",
      "source": [
        "##전처리: 불용어,영어, 특수문자 모두 제거"
      ],
      "metadata": {
        "id": "lUkKTyDsM9sv"
      },
      "id": "lUkKTyDsM9sv"
    },
    {
      "cell_type": "code",
      "execution_count": null,
      "metadata": {
        "id": "76M0rAidtRD1"
      },
      "outputs": [],
      "source": [
        "def preprocessing(review, okt, remove_stopwords = False, stop_words =[]):\n",
        "  #함수인자설명\n",
        "  # review: 전처리할 텍스트\n",
        "  # okt: okt객체를 반복적으로 생성하지 않고 미리 생성 후 인자로 받음\n",
        "  # remove_stopword: 불용어를 제거할지 여부 선택. 기본값 False\n",
        "  # stop_words: 불용어 사전은 사용자가 직접 입력, 기본값 빈 리스트\n",
        "\n",
        "  # 한글 및 공백 제외한 문자 모두 제거\n",
        "  review_text = re.sub('[^가-힣ㄱ-ㅎㅏ-ㅣ\\\\s]','',review)\n",
        "\n",
        "  # okt 객체를 활용하여 형태소 단어로 나눔\n",
        "  word_review = okt.morphs(review_text,stem=True)\n",
        "\n",
        "  if remove_stopwords:\n",
        "    # 불용어 제거\n",
        "    word_review = [token for token in word_review if not token in stop_words]\n",
        "  return word_review"
      ],
      "id": "76M0rAidtRD1"
    },
    {
      "cell_type": "code",
      "execution_count": null,
      "metadata": {
        "colab": {
          "base_uri": "https://localhost:8080/"
        },
        "id": "qib3euFHtUt1",
        "outputId": "a8987aa5-d671-412f-9b91-380545377bcf"
      },
      "outputs": [
        {
          "output_type": "execute_result",
          "data": {
            "text/plain": [
              "[['더빙', '짜증나다', '목소리']]"
            ]
          },
          "metadata": {},
          "execution_count": 20
        }
      ],
      "source": [
        "stop_words = ['은','는','이','가','하','아','것','들','의','있','되','수','보','주','등','한','으로','만','적','되다','이다','를','도','을','에','영화','ㅋ','진짜','너무','완전','이거','이건','그리고','왜','이','아']\n",
        "okt = Okt()\n",
        "clean_train_review = []\n",
        "\n",
        "for review in train_data['document']:\n",
        "  # 리뷰가 문자열인 경우만 전처리 진행\n",
        "  if type(review) == str:\n",
        "    clean_train_review.append(preprocessing(review,okt,remove_stopwords=True,stop_words= stop_words))\n",
        "  else:\n",
        "    clean_train_review.append([]) #str이 아닌 행은 빈칸으로 놔두기\n",
        "\n",
        "clean_train_review[:1]"
      ],
      "id": "qib3euFHtUt1"
    },
    {
      "cell_type": "code",
      "execution_count": null,
      "metadata": {
        "id": "sH_kgdDetXP1"
      },
      "outputs": [],
      "source": [
        "#test 데이터도 동일하게 전처리\n",
        "clean_test_review = []\n",
        "for review in test_data['document']:\n",
        "  if type(review) == str:\n",
        "    clean_test_review.append(preprocessing(review, okt, remove_stopwords=True, stop_words=stop_words))\n",
        "  else:\n",
        "    clean_test_review.append([])"
      ],
      "id": "sH_kgdDetXP1"
    },
    {
      "cell_type": "markdown",
      "metadata": {
        "id": "76swPcG4fHUY"
      },
      "source": [
        "한글 폰트가 깨지는 문제 해결\n",
        "-> 첫 문단에서 폰트 설치하고 런타임 재실행\n",
        "-> 아래 코드 실행하고 나눔고딕 폰트 있는지 확인"
      ],
      "id": "76swPcG4fHUY"
    },
    {
      "cell_type": "code",
      "execution_count": null,
      "metadata": {
        "colab": {
          "base_uri": "https://localhost:8080/"
        },
        "id": "PJph1EyOANRI",
        "outputId": "1a49e853-8733-45b1-f6b8-5d829e4d24b4"
      },
      "outputs": [
        {
          "output_type": "stream",
          "name": "stdout",
          "text": [
            "27\n"
          ]
        },
        {
          "output_type": "execute_result",
          "data": {
            "text/plain": [
              "['/usr/share/fonts/truetype/liberation/LiberationSansNarrow-Bold.ttf',\n",
              " '/usr/share/fonts/truetype/nanum/NanumGothic.ttf',\n",
              " '/usr/share/fonts/truetype/nanum/NanumSquareRoundB.ttf',\n",
              " '/usr/share/fonts/truetype/nanum/NanumSquareB.ttf',\n",
              " '/usr/share/fonts/truetype/nanum/NanumSquareRoundR.ttf',\n",
              " '/usr/share/fonts/truetype/liberation/LiberationSansNarrow-BoldItalic.ttf',\n",
              " '/usr/share/fonts/truetype/liberation/LiberationSansNarrow-Regular.ttf',\n",
              " '/usr/share/fonts/truetype/liberation/LiberationSerif-BoldItalic.ttf',\n",
              " '/usr/share/fonts/truetype/nanum/NanumBarunGothic.ttf',\n",
              " '/usr/share/fonts/truetype/humor-sans/Humor-Sans.ttf',\n",
              " '/usr/share/fonts/truetype/liberation/LiberationSansNarrow-Italic.ttf',\n",
              " '/usr/share/fonts/truetype/liberation/LiberationMono-Regular.ttf',\n",
              " '/usr/share/fonts/truetype/liberation/LiberationSans-Italic.ttf',\n",
              " '/usr/share/fonts/truetype/nanum/NanumSquareR.ttf',\n",
              " '/usr/share/fonts/truetype/nanum/NanumGothicBold.ttf',\n",
              " '/usr/share/fonts/truetype/liberation/LiberationMono-Bold.ttf',\n",
              " '/usr/share/fonts/truetype/nanum/NanumMyeongjoBold.ttf',\n",
              " '/usr/share/fonts/truetype/nanum/NanumMyeongjo.ttf',\n",
              " '/usr/share/fonts/truetype/liberation/LiberationSerif-Italic.ttf',\n",
              " '/usr/share/fonts/truetype/nanum/NanumBarunGothicBold.ttf',\n",
              " '/usr/share/fonts/truetype/liberation/LiberationMono-BoldItalic.ttf',\n",
              " '/usr/share/fonts/truetype/liberation/LiberationSans-BoldItalic.ttf',\n",
              " '/usr/share/fonts/truetype/liberation/LiberationSans-Regular.ttf',\n",
              " '/usr/share/fonts/truetype/liberation/LiberationSerif-Regular.ttf',\n",
              " '/usr/share/fonts/truetype/liberation/LiberationSerif-Bold.ttf',\n",
              " '/usr/share/fonts/truetype/liberation/LiberationMono-Italic.ttf',\n",
              " '/usr/share/fonts/truetype/liberation/LiberationSans-Bold.ttf']"
            ]
          },
          "metadata": {},
          "execution_count": 22
        }
      ],
      "source": [
        "#나눔 고딕 폰트가 존재하는지 확인\n",
        "import matplotlib.font_manager as fm\n",
        "\n",
        "font_list = fm.findSystemFonts(fontpaths=None, fontext='ttf')\n",
        "\n",
        "# ttf 폰트 전체갯수\n",
        "print(len(font_list))\n",
        "font_list"
      ],
      "id": "PJph1EyOANRI"
    },
    {
      "cell_type": "markdown",
      "source": [
        "##단어빈도 그래프"
      ],
      "metadata": {
        "id": "GoYEKpWoM3WC"
      },
      "id": "GoYEKpWoM3WC"
    },
    {
      "cell_type": "code",
      "execution_count": null,
      "metadata": {
        "colab": {
          "base_uri": "https://localhost:8080/",
          "height": 645
        },
        "id": "7qg5nkhQuMor",
        "outputId": "022ec5bc-0a92-4f5d-ea2a-d5d8baf9785e"
      },
      "outputs": [
        {
          "output_type": "stream",
          "name": "stdout",
          "text": [
            "[('내', 5919), ('평점', 6266), ('연기', 6326), ('나오다', 6397), ('과', 6418), ('만들다', 6507), ('에서', 6981), ('점', 7547), ('않다', 7722), ('아니다', 7753), ('로', 7834), ('같다', 8343), ('재밌다', 8802), ('정말', 9720), ('다', 10105), ('좋다', 12001), ('있다', 12429), ('없다', 15572), ('하다', 40807), ('보다', 41072)]\n"
          ]
        },
        {
          "output_type": "display_data",
          "data": {
            "text/plain": [
              "<Figure size 800x600 with 1 Axes>"
            ],
            "image/png": "[encoded data removed]"
          },
          "metadata": {}
        }
      ],
      "source": [
        "#단어빈도 그래프\n",
        "import matplotlib.pyplot as plt\n",
        "from matplotlib import font_manager, rc\n",
        "\n",
        "# 폰트 설정\n",
        "font_path = \"/content/drive/MyDrive/텍스트 분석 개인과제/NanumGothic.ttf\"\n",
        "font_name = font_manager.FontProperties(fname=font_path).get_name()\n",
        "rc('font', family=font_name)\n",
        "\n",
        "# 그래프 크기 조정\n",
        "plt.figure(figsize=(8, 6))\n",
        "\n",
        "tokens_const = clean_train_review  # 예시 데이터 (리스트 형태)\n",
        "\n",
        "const_cnt = {}\n",
        "for words in tokens_const:\n",
        "    for word in words:\n",
        "        const_cnt[word] = const_cnt.get(word, 0) + 1\n",
        "\n",
        "def word_graph(cnt, max_words=20):\n",
        "    sorted_w = sorted(cnt.items(), key=lambda kv: kv[1])\n",
        "    print(sorted_w[-max_words:])\n",
        "    w, n = zip(*sorted_w[-max_words:])\n",
        "\n",
        "    plt.barh(range(len(w)), n, tick_label=w)\n",
        "    plt.xlabel('빈도')\n",
        "    plt.ylabel('단어')\n",
        "    plt.title('네이버 영화평 단어 빈도')\n",
        "    plt.tight_layout()  # 그래프가 잘리지 않도록 자동 조정\n",
        "    plt.gca().invert_yaxis()  # y축의 순서를 역순으로 변경\n",
        "    plt.show()\n",
        "\n",
        "word_graph(const_cnt, max_words=20)\n"
      ],
      "id": "7qg5nkhQuMor"
    },
    {
      "cell_type": "code",
      "execution_count": null,
      "metadata": {
        "colab": {
          "base_uri": "https://localhost:8080/"
        },
        "id": "E8K0PUPBNBwC",
        "outputId": "6798f1a3-2a33-4565-af3f-2b3f7674d52a"
      },
      "outputs": [
        {
          "output_type": "stream",
          "name": "stdout",
          "text": [
            "[[0 0 0 ... 0 0 0]\n",
            " [0 0 0 ... 0 0 0]\n",
            " [0 0 0 ... 0 0 0]\n",
            " ...\n",
            " [0 0 0 ... 0 0 0]\n",
            " [0 0 0 ... 0 0 0]\n",
            " [0 0 0 ... 0 0 0]]\n"
          ]
        }
      ],
      "source": [
        "#문서 단어 행렬\n",
        "from sklearn.feature_extraction.text import CountVectorizer\n",
        "\n",
        "# 전처리된 텍스트 데이터\n",
        "text_data = clean_train_review\n",
        "\n",
        "# CountVectorizer를 사용하여 문서 단어 행렬 생성\n",
        "vectorizer = CountVectorizer()\n",
        "tokens_const = clean_train_review  # 예시 데이터 (리스트 형태)\n",
        "\n",
        "const_cnt = {}\n",
        "for words in tokens_const:\n",
        "    for word in words:\n",
        "        const_cnt[word] = const_cnt.get(word, 0) + 1\n",
        "\n",
        "doc_term_matrix = vectorizer.fit_transform( const_cnt)\n",
        "\n",
        "# 문서 단어 행렬 출력\n",
        "print(doc_term_matrix.toarray())\n"
      ],
      "id": "E8K0PUPBNBwC"
    },
    {
      "cell_type": "code",
      "execution_count": null,
      "metadata": {
        "id": "dqmQoY2X5BNg"
      },
      "outputs": [],
      "source": [
        "# 인덱스 벡터 변환 후 일정 길이 넘어가거나 모자라는 리뷰 패딩처리\n",
        "tokenizer = Tokenizer(num_words=10000)\n",
        "tokenizer.fit_on_texts(clean_train_review)\n",
        "train_sequences = tokenizer.texts_to_sequences(clean_train_review)\n",
        "test_sequences = tokenizer.texts_to_sequences(clean_test_review)\n",
        "\n",
        "word_vocab = tokenizer.word_index #단어사전형태\n",
        "MAX_SEQUENCE_LENGTH = 500 #문장 최대 길이\n",
        "\n",
        "#학습 데이터\n",
        "train_inputs = pad_sequences(train_sequences,maxlen=MAX_SEQUENCE_LENGTH,padding='post')\n",
        "\n",
        "#학습 데이터 라벨 벡터화\n",
        "train_labels = np.array(train_data['label'])\n",
        "\n",
        "#평가 데이터\n",
        "test_inputs = pad_sequences(test_sequences,maxlen=MAX_SEQUENCE_LENGTH,padding='post')\n",
        "#평가 데이터 라벨 벡터화\n",
        "test_labels = np.array(test_data['label'])"
      ],
      "id": "dqmQoY2X5BNg"
    },
    {
      "cell_type": "markdown",
      "source": [
        "##워드 클라우드 생성\n"
      ],
      "metadata": {
        "id": "5-IjKH5VMsXW"
      },
      "id": "5-IjKH5VMsXW"
    },
    {
      "cell_type": "code",
      "execution_count": null,
      "metadata": {
        "colab": {
          "base_uri": "https://localhost:8080/",
          "height": 285
        },
        "id": "gQhfD6j_0GPK",
        "outputId": "bb0c0df3-506c-4f0b-87bb-a3e68a984e95"
      },
      "outputs": [
        {
          "output_type": "display_data",
          "data": {
            "text/plain": [
              "<Figure size 640x480 with 1 Axes>"
            ],
            "image/png": "[encoded data removed]"
          },
          "metadata": {}
        }
      ],
      "source": [
        "import os\n",
        "import matplotlib.pyplot as plt\n",
        "import seaborn as sns\n",
        "from wordcloud import WordCloud\n",
        "wordcloud = WordCloud('/content/drive/MyDrive/텍스트 분석 개인과제/NanumGothic.ttf').generate(' '.join(train_data['document']))\n",
        "plt.imshow(wordcloud, interpolation='bilinear')\n",
        "plt.axis('off')\n",
        "plt.show()"
      ],
      "id": "gQhfD6j_0GPK"
    },
    {
      "cell_type": "code",
      "execution_count": null,
      "metadata": {
        "colab": {
          "base_uri": "https://localhost:8080/"
        },
        "id": "-i2J7Kqc4qOJ",
        "outputId": "94cc71fe-afdf-4909-9ad7-0f5d540f1339"
      },
      "outputs": [
        {
          "output_type": "stream",
          "name": "stdout",
          "text": [
            "긍정 리뷰 갯수: 72840\n",
            "부정 리뷰 갯수: 73342\n"
          ]
        }
      ],
      "source": [
        "print('긍정 리뷰 갯수: {}'.format(train_data['label'].value_counts()[1]))\n",
        "print('부정 리뷰 갯수: {}'.format(train_data['label'].value_counts()[0]))"
      ],
      "id": "-i2J7Kqc4qOJ"
    },
    {
      "cell_type": "markdown",
      "source": [
        "#cnn, lstm 모델을 통해 감성분류를 실행"
      ],
      "metadata": {
        "id": "ZMv91QY4CB-i"
      },
      "id": "ZMv91QY4CB-i"
    },
    {
      "cell_type": "code",
      "execution_count": null,
      "metadata": {
        "colab": {
          "base_uri": "https://localhost:8080/"
        },
        "id": "0cFQCpCNRbKB",
        "outputId": "b9ed615b-b62c-4426-d630-c33b86a1b8ec"
      },
      "outputs": [
        {
          "output_type": "stream",
          "name": "stdout",
          "text": [
            "Epoch 1/10\n",
            "2285/2285 [==============================] - 61s 24ms/step - loss: 0.6932 - accuracy: 0.5002 - val_loss: 0.6932 - val_accuracy: 0.4973\n",
            "Epoch 2/10\n",
            "2285/2285 [==============================] - 56s 25ms/step - loss: 0.6932 - accuracy: 0.5005 - val_loss: 0.6932 - val_accuracy: 0.4973\n",
            "Epoch 3/10\n",
            "2285/2285 [==============================] - 55s 24ms/step - loss: 0.6932 - accuracy: 0.4999 - val_loss: 0.6932 - val_accuracy: 0.4973\n",
            "Epoch 4/10\n",
            "2285/2285 [==============================] - 56s 24ms/step - loss: 0.6932 - accuracy: 0.4998 - val_loss: 0.6932 - val_accuracy: 0.4973\n",
            "Epoch 5/10\n",
            "2285/2285 [==============================] - 52s 23ms/step - loss: 0.6932 - accuracy: 0.5015 - val_loss: 0.6932 - val_accuracy: 0.4973\n",
            "Epoch 1/10\n",
            "2285/2285 [==============================] - 17s 6ms/step - loss: 4.5991 - accuracy: 0.5060 - val_loss: 3.1132 - val_accuracy: 0.5074\n",
            "Epoch 2/10\n",
            "2285/2285 [==============================] - 13s 6ms/step - loss: 2.8359 - accuracy: 0.5037 - val_loss: 3.4918 - val_accuracy: 0.5067\n",
            "Epoch 3/10\n",
            "2285/2285 [==============================] - 13s 6ms/step - loss: 2.4606 - accuracy: 0.5053 - val_loss: 3.6228 - val_accuracy: 0.5052\n",
            "Epoch 4/10\n",
            "2285/2285 [==============================] - 14s 6ms/step - loss: 2.2164 - accuracy: 0.5048 - val_loss: 2.2021 - val_accuracy: 0.5025\n",
            "Epoch 5/10\n",
            "2285/2285 [==============================] - 13s 6ms/step - loss: 1.8691 - accuracy: 0.5063 - val_loss: 3.0833 - val_accuracy: 0.5062\n",
            "Epoch 6/10\n",
            "2285/2285 [==============================] - 13s 6ms/step - loss: 1.7438 - accuracy: 0.5059 - val_loss: 1.1939 - val_accuracy: 0.5184\n",
            "Epoch 7/10\n",
            "2285/2285 [==============================] - 13s 6ms/step - loss: 1.4815 - accuracy: 0.5069 - val_loss: 0.9344 - val_accuracy: 0.5181\n",
            "Epoch 8/10\n",
            "2285/2285 [==============================] - 14s 6ms/step - loss: 1.3861 - accuracy: 0.5058 - val_loss: 0.8097 - val_accuracy: 0.5088\n",
            "Epoch 9/10\n",
            "2285/2285 [==============================] - 13s 6ms/step - loss: 1.2218 - accuracy: 0.5036 - val_loss: 1.7356 - val_accuracy: 0.5100\n",
            "Epoch 10/10\n",
            "2285/2285 [==============================] - 13s 6ms/step - loss: 1.0780 - accuracy: 0.5070 - val_loss: 0.7904 - val_accuracy: 0.5133\n",
            "1537/1537 [==============================] - 12s 7ms/step\n",
            "1537/1537 [==============================] - 3s 2ms/step\n",
            "LSTM Accuracy: 0.49730455479382385\n",
            "CNN Accuracy: 0.49730455479382385\n"
          ]
        }
      ],
      "source": [
        "#기본 cnn, lstm\n",
        "import re\n",
        "import pandas as pd\n",
        "import numpy as np\n",
        "import matplotlib.pyplot as plt\n",
        "from wordcloud import WordCloud\n",
        "from sklearn.feature_extraction.text import CountVectorizer, TfidfVectorizer\n",
        "from sklearn.model_selection import train_test_split\n",
        "from sklearn.metrics import accuracy_score\n",
        "from tensorflow.keras.models import Sequential\n",
        "from tensorflow.keras.layers import Embedding, LSTM, Dense, Conv1D, MaxPooling1D, GlobalMaxPooling1D\n",
        "from konlpy.tag import Okt\n",
        "from tensorflow.keras.callbacks import EarlyStopping\n",
        "\n",
        "# LSTM 모델\n",
        "model_lstm = Sequential()\n",
        "model_lstm.add(LSTM(units=128, input_shape=(train_inputs.shape[1], 1)))\n",
        "model_lstm.add(Dense(1, activation='sigmoid'))\n",
        "\n",
        "model_lstm.compile(loss='binary_crossentropy', optimizer='adam', metrics=['accuracy'])\n",
        "\n",
        "# EarlyStopping 콜백\n",
        "early_stopping_lstm = EarlyStopping(monitor='val_loss', patience=3, restore_best_weights=True)\n",
        "\n",
        "# LSTM 모델 학습\n",
        "model_lstm.fit(train_inputs, train_labels, epochs=10, batch_size=64, validation_data=(test_inputs, test_labels), callbacks=[early_stopping_lstm])\n",
        "\n",
        "# CNN 모델\n",
        "model_cnn = Sequential()\n",
        "model_cnn.add(Conv1D(filters=128, kernel_size=5, activation='relu', input_shape=(train_inputs.shape[1], 1)))\n",
        "model_cnn.add(GlobalMaxPooling1D())\n",
        "model_cnn.add(Dense(1, activation='sigmoid'))\n",
        "\n",
        "model_cnn.compile(loss='binary_crossentropy', optimizer='adam', metrics=['accuracy'])\n",
        "\n",
        "# EarlyStopping 콜백\n",
        "early_stopping_cnn = EarlyStopping(monitor='val_loss', patience=3, restore_best_weights=True)\n",
        "\n",
        "# CNN 모델 학습\n",
        "model_cnn.fit(train_inputs, train_labels, epochs=10, batch_size=64, validation_data=(test_inputs, test_labels), callbacks=[early_stopping_cnn])\n",
        "\n",
        "# 모델 성능 비교\n",
        "y_pred_lstm = model_lstm.predict(test_inputs)\n",
        "y_pred_lstm_classes = np.argmax(y_pred_lstm, axis=1)\n",
        "accuracy_lstm = accuracy_score(test_labels, y_pred_lstm_classes)\n",
        "\n",
        "y_pred_cnn = model_cnn.predict(test_inputs)\n",
        "y_pred_cnn_classes = np.argmax(y_pred_cnn, axis=1)\n",
        "accuracy_cnn = accuracy_score(test_labels, y_pred_cnn_classes)\n",
        "\n",
        "print(\"LSTM Accuracy:\", accuracy_lstm)\n",
        "print(\"CNN Accuracy:\", accuracy_cnn)\n",
        "\n"
      ],
      "id": "0cFQCpCNRbKB"
    },
    {
      "cell_type": "markdown",
      "source": [
        "##cnn, lstm 모델을 통해 감성분류를 실행하였고 성능을 개선해보기 위해\n",
        "##두 모델을 합친 앙상블 cnn-lstm모델을 도입하였다.\n"
      ],
      "metadata": {
        "id": "IOkMiPep_8Uy"
      },
      "id": "IOkMiPep_8Uy"
    },
    {
      "cell_type": "code",
      "execution_count": null,
      "metadata": {
        "id": "x2LApa2e71oo"
      },
      "outputs": [],
      "source": [
        "##최종 cnn,lstm, cnn-lstm"
      ],
      "id": "x2LApa2e71oo"
    },
    {
      "cell_type": "code",
      "execution_count": null,
      "metadata": {
        "id": "DvQVkO-MCLfY",
        "colab": {
          "base_uri": "https://localhost:8080/"
        },
        "outputId": "4746c49d-da64-4305-df27-802e27ca2a8e"
      },
      "outputs": [
        {
          "output_type": "stream",
          "name": "stdout",
          "text": [
            "Epoch 1/10\n",
            "2285/2285 [==============================] - 55s 22ms/step - loss: 0.6932 - accuracy: 0.4987 - val_loss: 0.6933 - val_accuracy: 0.4973\n",
            "Epoch 2/10\n",
            "2285/2285 [==============================] - 54s 24ms/step - loss: 0.6932 - accuracy: 0.5015 - val_loss: 0.6932 - val_accuracy: 0.4973\n",
            "Epoch 3/10\n",
            "2285/2285 [==============================] - 55s 24ms/step - loss: 0.6931 - accuracy: 0.5031 - val_loss: 0.6931 - val_accuracy: 0.5027\n",
            "Epoch 4/10\n",
            "2285/2285 [==============================] - 55s 24ms/step - loss: 0.6932 - accuracy: 0.5013 - val_loss: 0.6931 - val_accuracy: 0.5027\n",
            "Epoch 5/10\n",
            "2285/2285 [==============================] - 55s 24ms/step - loss: 0.6932 - accuracy: 0.4992 - val_loss: 0.6932 - val_accuracy: 0.4973\n",
            "Epoch 6/10\n",
            "2285/2285 [==============================] - 60s 26ms/step - loss: 0.6932 - accuracy: 0.5010 - val_loss: 0.6932 - val_accuracy: 0.4973\n",
            "Epoch 7/10\n",
            "2285/2285 [==============================] - 58s 25ms/step - loss: 0.6932 - accuracy: 0.4990 - val_loss: 0.6933 - val_accuracy: 0.4973\n",
            "Epoch 1/10\n",
            "2285/2285 [==============================] - 14s 6ms/step - loss: 4.0877 - accuracy: 0.5046 - val_loss: 1.9447 - val_accuracy: 0.5122\n",
            "Epoch 2/10\n",
            "2285/2285 [==============================] - 14s 6ms/step - loss: 2.7924 - accuracy: 0.5068 - val_loss: 4.8375 - val_accuracy: 0.5035\n",
            "Epoch 3/10\n",
            "2285/2285 [==============================] - 13s 6ms/step - loss: 2.4639 - accuracy: 0.5055 - val_loss: 1.6690 - val_accuracy: 0.5099\n",
            "Epoch 4/10\n",
            "2285/2285 [==============================] - 13s 6ms/step - loss: 2.1083 - accuracy: 0.5052 - val_loss: 3.1364 - val_accuracy: 0.5028\n",
            "Epoch 5/10\n",
            "2285/2285 [==============================] - 13s 6ms/step - loss: 1.9432 - accuracy: 0.5087 - val_loss: 1.2603 - val_accuracy: 0.5086\n",
            "Epoch 6/10\n",
            "2285/2285 [==============================] - 16s 7ms/step - loss: 1.7002 - accuracy: 0.5072 - val_loss: 1.7046 - val_accuracy: 0.5127\n",
            "Epoch 7/10\n",
            "2285/2285 [==============================] - 13s 6ms/step - loss: 1.6153 - accuracy: 0.5047 - val_loss: 1.1515 - val_accuracy: 0.5031\n",
            "Epoch 8/10\n",
            "2285/2285 [==============================] - 13s 6ms/step - loss: 1.4612 - accuracy: 0.5040 - val_loss: 1.4020 - val_accuracy: 0.5121\n",
            "Epoch 9/10\n",
            "2285/2285 [==============================] - 13s 6ms/step - loss: 1.3006 - accuracy: 0.5074 - val_loss: 0.8712 - val_accuracy: 0.5098\n",
            "Epoch 10/10\n",
            "2285/2285 [==============================] - 13s 6ms/step - loss: 1.1665 - accuracy: 0.5062 - val_loss: 3.1733 - val_accuracy: 0.5027\n",
            "Epoch 1/10\n",
            "2285/2285 [==============================] - 65s 27ms/step - loss: 0.6946 - accuracy: 0.4960 - val_loss: 0.6932 - val_accuracy: 0.4973\n",
            "Epoch 2/10\n",
            "2285/2285 [==============================] - 56s 25ms/step - loss: 0.6932 - accuracy: 0.4996 - val_loss: 0.6932 - val_accuracy: 0.5011\n",
            "Epoch 3/10\n",
            "2285/2285 [==============================] - 56s 25ms/step - loss: 0.6932 - accuracy: 0.4991 - val_loss: 0.6931 - val_accuracy: 0.5027\n",
            "Epoch 4/10\n",
            "2285/2285 [==============================] - 59s 26ms/step - loss: 0.6932 - accuracy: 0.4996 - val_loss: 0.6932 - val_accuracy: 0.4973\n",
            "Epoch 5/10\n",
            "2285/2285 [==============================] - 56s 25ms/step - loss: 0.6932 - accuracy: 0.5018 - val_loss: 0.6932 - val_accuracy: 0.4973\n",
            "Epoch 6/10\n",
            "2285/2285 [==============================] - 56s 25ms/step - loss: 0.6932 - accuracy: 0.4996 - val_loss: 0.6931 - val_accuracy: 0.5027\n",
            "Epoch 7/10\n",
            "2285/2285 [==============================] - 56s 25ms/step - loss: 0.6932 - accuracy: 0.4999 - val_loss: 0.6933 - val_accuracy: 0.4973\n",
            "Epoch 8/10\n",
            "2285/2285 [==============================] - 56s 25ms/step - loss: 0.6932 - accuracy: 0.5004 - val_loss: 0.6932 - val_accuracy: 0.4973\n",
            "Epoch 9/10\n",
            "2285/2285 [==============================] - 56s 25ms/step - loss: 0.6932 - accuracy: 0.4993 - val_loss: 0.6932 - val_accuracy: 0.4973\n",
            "1537/1537 [==============================] - 12s 7ms/step\n",
            "1537/1537 [==============================] - 2s 2ms/step\n",
            "4569/4569 [==============================] - 36s 8ms/step\n",
            "LSTM Accuracy: 0.49730455479382385\n",
            "CNN Accuracy: 0.49730455479382385\n",
            "Ensemble Accuracy: 0.501717037665376\n"
          ]
        }
      ],
      "source": [
        "#기본적인 형태의 cnn,lstm, cnn-lstm\n",
        "import re\n",
        "import pandas as pd\n",
        "import numpy as np\n",
        "import matplotlib.pyplot as plt\n",
        "from wordcloud import WordCloud\n",
        "from sklearn.feature_extraction.text import CountVectorizer, TfidfVectorizer\n",
        "from sklearn.model_selection import train_test_split\n",
        "from sklearn.metrics import accuracy_score\n",
        "from tensorflow.keras.models import Sequential, Model\n",
        "from tensorflow.keras.layers import Embedding, LSTM, Dense, Conv1D, MaxPooling1D, GlobalMaxPooling1D, concatenate\n",
        "from konlpy.tag import Okt\n",
        "from tensorflow.keras.callbacks import EarlyStopping\n",
        "# LSTM 모델\n",
        "model_lstm = Sequential()\n",
        "model_lstm.add(LSTM(units=128, input_shape=(train_inputs.shape[1], 1)))\n",
        "\n",
        "model_lstm.add(Dense(1, activation='sigmoid'))\n",
        "\n",
        "\n",
        "model_lstm.compile(loss='binary_crossentropy', optimizer='adam', metrics=['accuracy'])\n",
        "\n",
        "# EarlyStopping 콜백\n",
        "early_stopping_lstm = EarlyStopping(monitor='val_loss', patience=3, restore_best_weights=True)\n",
        "\n",
        "# LSTM 모델 학습\n",
        "model_lstm.fit(train_inputs, train_labels, epochs=10, batch_size=64, validation_data=(test_inputs, test_labels), callbacks=[early_stopping_lstm])\n",
        "\n",
        "# CNN 모델\n",
        "model_cnn = Sequential()\n",
        "model_cnn.add(Conv1D(filters=128, kernel_size=5, activation='relu', input_shape=(train_inputs.shape[1], 1)))\n",
        "model_cnn.add(GlobalMaxPooling1D())\n",
        "model_cnn.add(Dense(1, activation='sigmoid'))\n",
        "\n",
        "model_cnn.compile(loss='binary_crossentropy', optimizer='adam', metrics=['accuracy'])\n",
        "\n",
        "# EarlyStopping 콜백\n",
        "early_stopping_cnn = EarlyStopping(monitor='val_loss', patience=3, restore_best_weights=True)\n",
        "\n",
        "# CNN 모델 학습\n",
        "model_cnn.fit(train_inputs, train_labels, epochs=10, batch_size=64, validation_data=(test_inputs, test_labels), callbacks=[early_stopping_cnn])\n",
        "\n",
        "# CNN-LSTM 앙상블 모델\n",
        "concatenated = concatenate([model_lstm.output, model_cnn.output])\n",
        "ensemble_output = Dense(1, activation='sigmoid')(concatenated)\n",
        "\n",
        "model_ensemble = Model(inputs=[model_lstm.input, model_cnn.input], outputs=ensemble_output)\n",
        "model_ensemble.compile(loss='binary_crossentropy', optimizer='adam', metrics=['accuracy'])\n",
        "\n",
        "# EarlyStopping 콜백\n",
        "early_stopping_ensemble = EarlyStopping(monitor='val_loss', patience=3, restore_best_weights=True)\n",
        "\n",
        "# 앙상블 모델 학습\n",
        "model_ensemble.fit([train_inputs, train_inputs], train_labels, epochs=10, batch_size=64, validation_data=([test_inputs, test_inputs], test_labels), callbacks=[early_stopping_ensemble])\n",
        "\n",
        "# 모델 성능 비교\n",
        "y_pred_lstm = model_lstm.predict(test_inputs)\n",
        "y_pred_lstm_classes = np.argmax(y_pred_lstm, axis=1)\n",
        "accuracy_lstm = accuracy_score(test_labels, y_pred_lstm_classes)\n",
        "\n",
        "y_pred_cnn = model_cnn.predict(test_inputs)\n",
        "y_pred_cnn_classes = np.argmax(y_pred_cnn, axis=1)\n",
        "accuracy_cnn = accuracy_score(test_labels, y_pred_cnn_classes)\n",
        "\n",
        "y_pred_ensemble = model_ensemble.predict([train_inputs, train_inputs])\n",
        "y_pred_ensemble_classes = np.argmax(y_pred_ensemble, axis=1)\n",
        "accuracy_ensemble = accuracy_score(train_labels, y_pred_ensemble_classes)\n",
        "\n",
        "print(\"LSTM Accuracy:\", accuracy_lstm)\n",
        "print(\"CNN Accuracy:\", accuracy_cnn)\n",
        "print(\"Ensemble Accuracy:\", accuracy_ensemble)"
      ],
      "id": "DvQVkO-MCLfY"
    },
    {
      "cell_type": "markdown",
      "source": [
        "##cnn, lstm 개별 모델만 사용할때보다 앙상블 모형을 통한 예측이 더 정확한 것을 알 수 있다."
      ],
      "metadata": {
        "id": "NtHsYVOdJUba"
      },
      "id": "NtHsYVOdJUba"
    }
  ],
  "metadata": {
    "accelerator": "GPU",
    "colab": {
      "provenance": [],
      "gpuType": "T4"
    },
    "kernelspec": {
      "display_name": "Python 3",
      "name": "python3"
    },
    "language_info": {
      "codemirror_mode": {
        "name": "ipython",
        "version": 3
      },
      "file_extension": ".py",
      "mimetype": "text/x-python",
      "name": "python",
      "nbconvert_exporter": "python",
      "pygments_lexer": "ipython3",
      "version": "3.9.12"
    }
  },
  "nbformat": 4,
  "nbformat_minor": 5
}