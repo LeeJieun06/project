{
  "cells": [
    {
      "cell_type": "code",
      "execution_count": null,
      "metadata": {
        "colab": {
          "base_uri": "https://localhost:8080/",
          "height": 208
        },
        "id": "Sqjn4N-ePnX9",
        "outputId": "38a5e30e-568d-478f-bb9a-bf95a3421c60"
      },
      "outputs": [
        {
          "data": {
            "text/html": [
              "\n",
              "  <div id=\"df-a5f7e665-b224-40c3-acf0-abc1f78e638e\">\n",
              "    <div class=\"colab-df-container\">\n",
              "      <div>\n",
              "<style scoped>\n",
              "    .dataframe tbody tr th:only-of-type {\n",
              "        vertical-align: middle;\n",
              "    }\n",
              "\n",
              "    .dataframe tbody tr th {\n",
              "        vertical-align: top;\n",
              "    }\n",
              "\n",
              "    .dataframe thead th {\n",
              "        text-align: right;\n",
              "    }\n",
              "</style>\n",
              "<table border=\"1\" class=\"dataframe\">\n",
              "  <thead>\n",
              "    <tr style=\"text-align: right;\">\n",
              "      <th></th>\n",
              "      <th>Unnamed: 0</th>\n",
              "      <th>title</th>\n",
              "      <th>date</th>\n",
              "      <th>main</th>\n",
              "      <th>section</th>\n",
              "      <th>url</th>\n",
              "    </tr>\n",
              "  </thead>\n",
              "  <tbody>\n",
              "    <tr>\n",
              "      <th>0</th>\n",
              "      <td>0</td>\n",
              "      <td>오후 국회 본회의…'전세사기 특별법'·'김남국 방지법' 처리</td>\n",
              "      <td>2023.05.25. 오전 9:24</td>\n",
              "      <td>전세사기 특별법과 이른바 '김남국 방지법'으로 불리는 가상자산(코인) 관련 개정안이...</td>\n",
              "      <td>100</td>\n",
              "      <td>https://n.news.naver.com/mnews/article/374/000...</td>\n",
              "    </tr>\n",
              "    <tr>\n",
              "      <th>1</th>\n",
              "      <td>1</td>\n",
              "      <td>이준석, 학력 위조 의혹에 \"하버드 졸업 10억 내기하자…이번엔 박멸\"</td>\n",
              "      <td>2023.05.25. 오후 3:53</td>\n",
              "      <td>\"해당 의혹 제기한 유튜버들 싸그리 고소\"\\n\\n\\n\\n이준석 전 국민의힘 대표가 ...</td>\n",
              "      <td>100</td>\n",
              "      <td>https://n.news.naver.com/mnews/article/088/000...</td>\n",
              "    </tr>\n",
              "  </tbody>\n",
              "</table>\n",
              "</div>\n",
              "      <button class=\"colab-df-convert\" onclick=\"convertToInteractive('df-a5f7e665-b224-40c3-acf0-abc1f78e638e')\"\n",
              "              title=\"Convert this dataframe to an interactive table.\"\n",
              "              style=\"display:none;\">\n",
              "        \n",
              "  <svg xmlns=\"http://www.w3.org/2000/svg\" height=\"24px\"viewBox=\"0 0 24 24\"\n",
              "       width=\"24px\">\n",
              "    <path d=\"M0 0h24v24H0V0z\" fill=\"none\"/>\n",
              "    <path d=\"M18.56 5.44l.94 2.06.94-2.06 2.06-.94-2.06-.94-.94-2.06-.94 2.06-2.06.94zm-11 1L8.5 8.5l.94-2.06 2.06-.94-2.06-.94L8.5 2.5l-.94 2.06-2.06.94zm10 10l.94 2.06.94-2.06 2.06-.94-2.06-.94-.94-2.06-.94 2.06-2.06.94z\"/><path d=\"M17.41 7.96l-1.37-1.37c-.4-.4-.92-.59-1.43-.59-.52 0-1.04.2-1.43.59L10.3 9.45l-7.72 7.72c-.78.78-.78 2.05 0 2.83L4 21.41c.39.39.9.59 1.41.59.51 0 1.02-.2 1.41-.59l7.78-7.78 2.81-2.81c.8-.78.8-2.07 0-2.86zM5.41 20L4 18.59l7.72-7.72 1.47 1.35L5.41 20z\"/>\n",
              "  </svg>\n",
              "      </button>\n",
              "      \n",
              "  <style>\n",
              "    .colab-df-container {\n",
              "      display:flex;\n",
              "      flex-wrap:wrap;\n",
              "      gap: 12px;\n",
              "    }\n",
              "\n",
              "    .colab-df-convert {\n",
              "      background-color: #E8F0FE;\n",
              "      border: none;\n",
              "      border-radius: 50%;\n",
              "      cursor: pointer;\n",
              "      display: none;\n",
              "      fill: #1967D2;\n",
              "      height: 32px;\n",
              "      padding: 0 0 0 0;\n",
              "      width: 32px;\n",
              "    }\n",
              "\n",
              "    .colab-df-convert:hover {\n",
              "      background-color: #E2EBFA;\n",
              "      box-shadow: 0px 1px 2px rgba(60, 64, 67, 0.3), 0px 1px 3px 1px rgba(60, 64, 67, 0.15);\n",
              "      fill: #174EA6;\n",
              "    }\n",
              "\n",
              "    [theme=dark] .colab-df-convert {\n",
              "      background-color: #3B4455;\n",
              "      fill: #D2E3FC;\n",
              "    }\n",
              "\n",
              "    [theme=dark] .colab-df-convert:hover {\n",
              "      background-color: #434B5C;\n",
              "      box-shadow: 0px 1px 3px 1px rgba(0, 0, 0, 0.15);\n",
              "      filter: drop-shadow(0px 1px 2px rgba(0, 0, 0, 0.3));\n",
              "      fill: #FFFFFF;\n",
              "    }\n",
              "  </style>\n",
              "\n",
              "      <script>\n",
              "        const buttonEl =\n",
              "          document.querySelector('#df-a5f7e665-b224-40c3-acf0-abc1f78e638e button.colab-df-convert');\n",
              "        buttonEl.style.display =\n",
              "          google.colab.kernel.accessAllowed ? 'block' : 'none';\n",
              "\n",
              "        async function convertToInteractive(key) {\n",
              "          const element = document.querySelector('#df-a5f7e665-b224-40c3-acf0-abc1f78e638e');\n",
              "          const dataTable =\n",
              "            await google.colab.kernel.invokeFunction('convertToInteractive',\n",
              "                                                     [key], {});\n",
              "          if (!dataTable) return;\n",
              "\n",
              "          const docLinkHtml = 'Like what you see? Visit the ' +\n",
              "            '<a target=\"_blank\" href=https://colab.research.google.com/notebooks/data_table.ipynb>data table notebook</a>'\n",
              "            + ' to learn more about interactive tables.';\n",
              "          element.innerHTML = '';\n",
              "          dataTable['output_type'] = 'display_data';\n",
              "          await google.colab.output.renderOutput(dataTable, element);\n",
              "          const docLink = document.createElement('div');\n",
              "          docLink.innerHTML = docLinkHtml;\n",
              "          element.appendChild(docLink);\n",
              "        }\n",
              "      </script>\n",
              "    </div>\n",
              "  </div>\n",
              "  "
            ],
            "text/plain": [
              "   Unnamed: 0                                    title                 date  \\\n",
              "0           0       오후 국회 본회의…'전세사기 특별법'·'김남국 방지법' 처리   2023.05.25. 오전 9:24   \n",
              "1           1  이준석, 학력 위조 의혹에 \"하버드 졸업 10억 내기하자…이번엔 박멸\"  2023.05.25. 오후 3:53   \n",
              "\n",
              "                                                main  section  \\\n",
              "0  전세사기 특별법과 이른바 '김남국 방지법'으로 불리는 가상자산(코인) 관련 개정안이...      100   \n",
              "1  \"해당 의혹 제기한 유튜버들 싸그리 고소\"\\n\\n\\n\\n이준석 전 국민의힘 대표가 ...      100   \n",
              "\n",
              "                                                 url  \n",
              "0  https://n.news.naver.com/mnews/article/374/000...  \n",
              "1  https://n.news.naver.com/mnews/article/088/000...  "
            ]
          },
          "execution_count": 5,
          "metadata": {},
          "output_type": "execute_result"
        }
      ],
      "source": [
        "import pandas as pd\n",
        "from sklearn.feature_extraction.text import TfidfVectorizer\n",
        "from sklearn.metrics.pairwise import cosine_similarity\n",
        "\n",
        "data = pd.read_excel('/content/drive/MyDrive/[텍스트분석] 팀 프로젝트/dataset/article_df_final.xlsx', engine='openpyxl')\n",
        "#test = pd.read_excel('/content/drive/MyDrive/[텍스트분석] 팀 프로젝트/dataset/data.xlsx', sheet_name='Sheet1', engine='openpyxl')\n",
        "data.head(2)\n",
        "#test_1=data[:1]"
      ]
    },
    {
      "cell_type": "code",
      "execution_count": null,
      "metadata": {
        "colab": {
          "base_uri": "https://localhost:8080/"
        },
        "id": "ky6O9W_09_vA",
        "outputId": "06e6addc-5efc-4f12-e781-75cd83c3cf22"
      },
      "outputs": [
        {
          "name": "stdout",
          "output_type": "stream",
          "text": [
            "Drive already mounted at /content/drive; to attempt to forcibly remount, call drive.mount(\"/content/drive\", force_remount=True).\n"
          ]
        }
      ],
      "source": [
        "from google.colab import drive\n",
        "drive.mount('/content/drive')"
      ]
    },
    {
      "cell_type": "code",
      "execution_count": null,
      "metadata": {
        "id": "HsgRBh-HbzVX"
      },
      "outputs": [],
      "source": [
        "def isUnique(item):#중복값 확인\n",
        "    tempSet = set()\n",
        "    return not any(i in tempSet or tempSet.add(i) for i in item)"
      ]
    },
    {
      "cell_type": "code",
      "execution_count": null,
      "metadata": {
        "colab": {
          "base_uri": "https://localhost:8080/"
        },
        "id": "_41vgJ_rWTBS",
        "outputId": "47c6f0a2-e6fe-461c-9965-cb20a5723d8a"
      },
      "outputs": [
        {
          "data": {
            "text/plain": [
              "True"
            ]
          },
          "execution_count": 8,
          "metadata": {},
          "output_type": "execute_result"
        }
      ],
      "source": [
        "isUnique(data['main'])"
      ]
    },
    {
      "cell_type": "code",
      "execution_count": null,
      "metadata": {
        "colab": {
          "base_uri": "https://localhost:8080/"
        },
        "id": "zS7RPWUqQcTv",
        "outputId": "44c3f1a2-9e90-4935-f2f7-776cce6e17cf"
      },
      "outputs": [
        {
          "name": "stdout",
          "output_type": "stream",
          "text": [
            "overview 열의 결측값의 수: 0\n"
          ]
        }
      ],
      "source": [
        "print('overview 열의 결측값의 수:',data['main'].isnull().sum())#결측값 확인"
      ]
    },
    {
      "cell_type": "code",
      "execution_count": null,
      "metadata": {
        "colab": {
          "base_uri": "https://localhost:8080/"
        },
        "id": "TvCEelGESZJt",
        "outputId": "c22ede96-5923-4aa5-aba7-37e7daf2d25e"
      },
      "outputs": [
        {
          "name": "stdout",
          "output_type": "stream",
          "text": [
            "Looking in indexes: https://pypi.org/simple, https://us-python.pkg.dev/colab-wheels/public/simple/\n",
            "Collecting konlpy\n",
            "  Downloading konlpy-0.6.0-py2.py3-none-any.whl (19.4 MB)\n",
            "\u001b[2K     \u001b[90m━━━━━━━━━━━━━━━━━━━━━━━━━━━━━━━━━━━━━━━━\u001b[0m \u001b[32m19.4/19.4 MB\u001b[0m \u001b[31m49.9 MB/s\u001b[0m eta \u001b[36m0:00:00\u001b[0m\n",
            "\u001b[?25hCollecting JPype1>=0.7.0 (from konlpy)\n",
            "  Downloading JPype1-1.4.1-cp310-cp310-manylinux_2_12_x86_64.manylinux2010_x86_64.whl (465 kB)\n",
            "\u001b[2K     \u001b[90m━━━━━━━━━━━━━━━━━━━━━━━━━━━━━━━━━━━━━━\u001b[0m \u001b[32m465.3/465.3 kB\u001b[0m \u001b[31m39.0 MB/s\u001b[0m eta \u001b[36m0:00:00\u001b[0m\n",
            "\u001b[?25hRequirement already satisfied: lxml>=4.1.0 in /usr/local/lib/python3.10/dist-packages (from konlpy) (4.9.2)\n",
            "Requirement already satisfied: numpy>=1.6 in /usr/local/lib/python3.10/dist-packages (from konlpy) (1.22.4)\n",
            "Requirement already satisfied: packaging in /usr/local/lib/python3.10/dist-packages (from JPype1>=0.7.0->konlpy) (23.1)\n",
            "Installing collected packages: JPype1, konlpy\n",
            "Successfully installed JPype1-1.4.1 konlpy-0.6.0\n"
          ]
        }
      ],
      "source": [
        "!pip install konlpy"
      ]
    },
    {
      "cell_type": "code",
      "execution_count": null,
      "metadata": {
        "id": "yFk8dmr-Sioy"
      },
      "outputs": [],
      "source": [
        "import numpy as np\n",
        "import pandas as pd\n",
        "import re\n",
        "import json\n",
        "from konlpy.tag import Okt\n",
        "from tensorflow.keras.preprocessing.sequence import pad_sequences\n",
        "from tensorflow.keras.preprocessing.text import Tokenizer"
      ]
    },
    {
      "cell_type": "code",
      "execution_count": null,
      "metadata": {
        "id": "pYzJ7lCwSzsH"
      },
      "outputs": [],
      "source": [
        "def preprocessing(review, okt, remove_stopwords = False, stop_words =[]):\n",
        "  #함수인자설명\n",
        "  # review: 전처리할 텍스트\n",
        "  # okt: okt객체를 반복적으로 생성하지 않고 미리 생성 후 인자로 받음\n",
        "  # remove_stopword: 불용어를 제거할지 여부 선택. 기본값 False\n",
        "  # stop_words: 불용어 사전은 사용자가 직접 입력, 기본값 빈 리스트\n",
        "\n",
        "  # 1. 한글 및 공백 제외한 문자 모두 제거\n",
        "  review_text = re.sub('[^가-힣ㄱ-ㅎㅏ-ㅣ\\\\s]','',review)\n",
        "\n",
        "  #2. okt 객체를 활용하여 형태소 단어로 나눔\n",
        "  word_review = okt.morphs(review_text,stem=True)\n",
        "\n",
        "  if remove_stopwords:\n",
        "    #3. 불용어 제거(선택)\n",
        "    word_review = [token for token in word_review if not token in stop_words]\n",
        "  return word_review"
      ]
    },
    {
      "cell_type": "code",
      "execution_count": null,
      "metadata": {
        "colab": {
          "background_save": true
        },
        "id": "FKqCwtu9RoZ8",
        "outputId": "95d8240b-86bf-44fc-f391-f22c24b2b48a"
      },
      "outputs": [
        {
          "ename": "KeyboardInterrupt",
          "evalue": "ignored",
          "output_type": "error",
          "traceback": [
            "\u001b[0;31m---------------------------------------------------------------------------\u001b[0m",
            "\u001b[0;31mKeyboardInterrupt\u001b[0m                         Traceback (most recent call last)",
            "\u001b[0;32m<ipython-input-13-ff345ce79b0d>\u001b[0m in \u001b[0;36m<cell line: 5>\u001b[0;34m()\u001b[0m\n\u001b[1;32m      6\u001b[0m   \u001b[0;31m# 리뷰가 문자열인 경우만 전처리 진행\u001b[0m\u001b[0;34m\u001b[0m\u001b[0;34m\u001b[0m\u001b[0m\n\u001b[1;32m      7\u001b[0m   \u001b[0;32mif\u001b[0m \u001b[0mtype\u001b[0m\u001b[0;34m(\u001b[0m\u001b[0mreview\u001b[0m\u001b[0;34m)\u001b[0m \u001b[0;34m==\u001b[0m \u001b[0mstr\u001b[0m\u001b[0;34m:\u001b[0m\u001b[0;34m\u001b[0m\u001b[0;34m\u001b[0m\u001b[0m\n\u001b[0;32m----> 8\u001b[0;31m     \u001b[0mclean_train_review\u001b[0m\u001b[0;34m.\u001b[0m\u001b[0mappend\u001b[0m\u001b[0;34m(\u001b[0m\u001b[0mpreprocessing\u001b[0m\u001b[0;34m(\u001b[0m\u001b[0mreview\u001b[0m\u001b[0;34m,\u001b[0m\u001b[0mokt\u001b[0m\u001b[0;34m,\u001b[0m\u001b[0mremove_stopwords\u001b[0m\u001b[0;34m=\u001b[0m\u001b[0;32mTrue\u001b[0m\u001b[0;34m,\u001b[0m\u001b[0mstop_words\u001b[0m\u001b[0;34m=\u001b[0m \u001b[0mstop_words\u001b[0m\u001b[0;34m)\u001b[0m\u001b[0;34m)\u001b[0m\u001b[0;34m\u001b[0m\u001b[0;34m\u001b[0m\u001b[0m\n\u001b[0m\u001b[1;32m      9\u001b[0m   \u001b[0;32melse\u001b[0m\u001b[0;34m:\u001b[0m\u001b[0;34m\u001b[0m\u001b[0;34m\u001b[0m\u001b[0m\n\u001b[1;32m     10\u001b[0m     \u001b[0mclean_train_review\u001b[0m\u001b[0;34m.\u001b[0m\u001b[0mappend\u001b[0m\u001b[0;34m(\u001b[0m\u001b[0;34m[\u001b[0m\u001b[0;34m]\u001b[0m\u001b[0;34m)\u001b[0m \u001b[0;31m#str이 아닌 행은 빈칸으로 놔두기\u001b[0m\u001b[0;34m\u001b[0m\u001b[0;34m\u001b[0m\u001b[0m\n",
            "\u001b[0;32m<ipython-input-12-d73d48cec8ae>\u001b[0m in \u001b[0;36mpreprocessing\u001b[0;34m(review, okt, remove_stopwords, stop_words)\u001b[0m\n\u001b[1;32m     10\u001b[0m \u001b[0;34m\u001b[0m\u001b[0m\n\u001b[1;32m     11\u001b[0m   \u001b[0;31m#2. okt 객체를 활용하여 형태소 단어로 나눔\u001b[0m\u001b[0;34m\u001b[0m\u001b[0;34m\u001b[0m\u001b[0m\n\u001b[0;32m---> 12\u001b[0;31m   \u001b[0mword_review\u001b[0m \u001b[0;34m=\u001b[0m \u001b[0mokt\u001b[0m\u001b[0;34m.\u001b[0m\u001b[0mmorphs\u001b[0m\u001b[0;34m(\u001b[0m\u001b[0mreview_text\u001b[0m\u001b[0;34m,\u001b[0m\u001b[0mstem\u001b[0m\u001b[0;34m=\u001b[0m\u001b[0;32mTrue\u001b[0m\u001b[0;34m)\u001b[0m\u001b[0;34m\u001b[0m\u001b[0;34m\u001b[0m\u001b[0m\n\u001b[0m\u001b[1;32m     13\u001b[0m \u001b[0;34m\u001b[0m\u001b[0m\n\u001b[1;32m     14\u001b[0m   \u001b[0;32mif\u001b[0m \u001b[0mremove_stopwords\u001b[0m\u001b[0;34m:\u001b[0m\u001b[0;34m\u001b[0m\u001b[0;34m\u001b[0m\u001b[0m\n",
            "\u001b[0;32m/usr/local/lib/python3.10/dist-packages/konlpy/tag/_okt.py\u001b[0m in \u001b[0;36mmorphs\u001b[0;34m(self, phrase, norm, stem)\u001b[0m\n\u001b[1;32m     87\u001b[0m         \u001b[0;34m\"\"\"Parse phrase to morphemes.\"\"\"\u001b[0m\u001b[0;34m\u001b[0m\u001b[0;34m\u001b[0m\u001b[0m\n\u001b[1;32m     88\u001b[0m \u001b[0;34m\u001b[0m\u001b[0m\n\u001b[0;32m---> 89\u001b[0;31m         \u001b[0;32mreturn\u001b[0m \u001b[0;34m[\u001b[0m\u001b[0ms\u001b[0m \u001b[0;32mfor\u001b[0m \u001b[0ms\u001b[0m\u001b[0;34m,\u001b[0m \u001b[0mt\u001b[0m \u001b[0;32min\u001b[0m \u001b[0mself\u001b[0m\u001b[0;34m.\u001b[0m\u001b[0mpos\u001b[0m\u001b[0;34m(\u001b[0m\u001b[0mphrase\u001b[0m\u001b[0;34m,\u001b[0m \u001b[0mnorm\u001b[0m\u001b[0;34m=\u001b[0m\u001b[0mnorm\u001b[0m\u001b[0;34m,\u001b[0m \u001b[0mstem\u001b[0m\u001b[0;34m=\u001b[0m\u001b[0mstem\u001b[0m\u001b[0;34m)\u001b[0m\u001b[0;34m]\u001b[0m\u001b[0;34m\u001b[0m\u001b[0;34m\u001b[0m\u001b[0m\n\u001b[0m\u001b[1;32m     90\u001b[0m \u001b[0;34m\u001b[0m\u001b[0m\n\u001b[1;32m     91\u001b[0m     \u001b[0;32mdef\u001b[0m \u001b[0mphrases\u001b[0m\u001b[0;34m(\u001b[0m\u001b[0mself\u001b[0m\u001b[0;34m,\u001b[0m \u001b[0mphrase\u001b[0m\u001b[0;34m)\u001b[0m\u001b[0;34m:\u001b[0m\u001b[0;34m\u001b[0m\u001b[0;34m\u001b[0m\u001b[0m\n",
            "\u001b[0;32m/usr/local/lib/python3.10/dist-packages/konlpy/tag/_okt.py\u001b[0m in \u001b[0;36mpos\u001b[0;34m(self, phrase, norm, stem, join)\u001b[0m\n\u001b[1;32m     69\u001b[0m         \u001b[0mvalidate_phrase_inputs\u001b[0m\u001b[0;34m(\u001b[0m\u001b[0mphrase\u001b[0m\u001b[0;34m)\u001b[0m\u001b[0;34m\u001b[0m\u001b[0;34m\u001b[0m\u001b[0m\n\u001b[1;32m     70\u001b[0m \u001b[0;34m\u001b[0m\u001b[0m\n\u001b[0;32m---> 71\u001b[0;31m         tokens = self.jki.tokenize(\n\u001b[0m\u001b[1;32m     72\u001b[0m                     \u001b[0mphrase\u001b[0m\u001b[0;34m,\u001b[0m\u001b[0;34m\u001b[0m\u001b[0;34m\u001b[0m\u001b[0m\n\u001b[1;32m     73\u001b[0m                     \u001b[0mjpype\u001b[0m\u001b[0;34m.\u001b[0m\u001b[0mjava\u001b[0m\u001b[0;34m.\u001b[0m\u001b[0mlang\u001b[0m\u001b[0;34m.\u001b[0m\u001b[0mBoolean\u001b[0m\u001b[0;34m(\u001b[0m\u001b[0mnorm\u001b[0m\u001b[0;34m)\u001b[0m\u001b[0;34m,\u001b[0m\u001b[0;34m\u001b[0m\u001b[0;34m\u001b[0m\u001b[0m\n",
            "\u001b[0;31mKeyboardInterrupt\u001b[0m: "
          ]
        }
      ],
      "source": [
        "stop_words = ['은','는','이','가','하','아','것','들','의','있','되','수','보','주','등','한','올해','지난해','기준','최근','현재','회장','서비스','이후','오전','오후','대해','위해','내용','연합뉴스','때문','무단','따른','금지','전재','경향신문','기자','는데','파이낸셜','저작','뉴스','이번','대한','대비']\n",
        "okt = Okt()\n",
        "clean_train_review = []\n",
        "\n",
        "for review in data['main']:\n",
        "  # 리뷰가 문자열인 경우만 전처리 진행\n",
        "  if type(review) == str:\n",
        "    clean_train_review.append(preprocessing(review,okt,remove_stopwords=True,stop_words= stop_words))\n",
        "  else:\n",
        "    clean_train_review.append([]) #str이 아닌 행은 빈칸으로 놔두기\n",
        "\n",
        "clean_train_review[:1]"
      ]
    },
    {
      "cell_type": "code",
      "execution_count": null,
      "metadata": {
        "colab": {
          "base_uri": "https://localhost:8080/",
          "height": 244
        },
        "id": "OzgY9sQTSKNJ",
        "outputId": "baa6fc8f-c97e-441d-ba1b-5dbfab042e47"
      },
      "outputs": [
        {
          "ename": "NameError",
          "evalue": "ignored",
          "output_type": "error",
          "traceback": [
            "\u001b[0;31m---------------------------------------------------------------------------\u001b[0m",
            "\u001b[0;31mNameError\u001b[0m                                 Traceback (most recent call last)",
            "\u001b[0;32m<ipython-input-14-67c70d762715>\u001b[0m in \u001b[0;36m<cell line: 5>\u001b[0;34m()\u001b[0m\n\u001b[1;32m      3\u001b[0m \u001b[0;34m\u001b[0m\u001b[0m\n\u001b[1;32m      4\u001b[0m \u001b[0mclean_test_review\u001b[0m \u001b[0;34m=\u001b[0m \u001b[0;34m[\u001b[0m\u001b[0;34m]\u001b[0m\u001b[0;34m\u001b[0m\u001b[0;34m\u001b[0m\u001b[0m\n\u001b[0;32m----> 5\u001b[0;31m \u001b[0;32mfor\u001b[0m \u001b[0mreview\u001b[0m \u001b[0;32min\u001b[0m \u001b[0mtest\u001b[0m\u001b[0;34m:\u001b[0m\u001b[0;34m\u001b[0m\u001b[0;34m\u001b[0m\u001b[0m\n\u001b[0m\u001b[1;32m      6\u001b[0m   \u001b[0;32mif\u001b[0m \u001b[0mtype\u001b[0m\u001b[0;34m(\u001b[0m\u001b[0mreview\u001b[0m\u001b[0;34m)\u001b[0m \u001b[0;34m==\u001b[0m \u001b[0mstr\u001b[0m\u001b[0;34m:\u001b[0m\u001b[0;34m\u001b[0m\u001b[0;34m\u001b[0m\u001b[0m\n\u001b[1;32m      7\u001b[0m     \u001b[0mclean_test_review\u001b[0m\u001b[0;34m.\u001b[0m\u001b[0mappend\u001b[0m\u001b[0;34m(\u001b[0m\u001b[0mpreprocessing\u001b[0m\u001b[0;34m(\u001b[0m\u001b[0mreview\u001b[0m\u001b[0;34m,\u001b[0m \u001b[0mokt\u001b[0m\u001b[0;34m,\u001b[0m \u001b[0mremove_stopwords\u001b[0m\u001b[0;34m=\u001b[0m\u001b[0;32mTrue\u001b[0m\u001b[0;34m,\u001b[0m \u001b[0mstop_words\u001b[0m\u001b[0;34m=\u001b[0m\u001b[0mstop_words\u001b[0m\u001b[0;34m)\u001b[0m\u001b[0;34m)\u001b[0m\u001b[0;34m\u001b[0m\u001b[0;34m\u001b[0m\u001b[0m\n",
            "\u001b[0;31mNameError\u001b[0m: name 'test' is not defined"
          ]
        }
      ],
      "source": [
        "#테스트 리뷰도 동일하게 전처리\n",
        "#이 코드는 test데이터 사용할때만 돌리자!!\n",
        "\n",
        "clean_test_review = []\n",
        "for review in test:\n",
        "  if type(review) == str:\n",
        "    clean_test_review.append(preprocessing(review, okt, remove_stopwords=True, stop_words=stop_words))\n",
        "  else:\n",
        "    clean_test_review.append([])"
      ]
    },
    {
      "cell_type": "code",
      "execution_count": null,
      "metadata": {
        "colab": {
          "base_uri": "https://localhost:8080/"
        },
        "id": "dCJPaTbOQrwU",
        "outputId": "42edb345-3ba5-4469-c681-bbdae7eff595"
      },
      "outputs": [
        {
          "name": "stdout",
          "output_type": "stream",
          "text": [
            "TF-IDF 행렬의 크기(shape) : (330, 26372)\n"
          ]
        }
      ],
      "source": [
        "tfidf = TfidfVectorizer()\n",
        "tfidf_matrix = tfidf.fit_transform(data['main'])\n",
        "print('TF-IDF 행렬의 크기(shape) :',tfidf_matrix.shape)"
      ]
    },
    {
      "cell_type": "code",
      "execution_count": null,
      "metadata": {
        "colab": {
          "base_uri": "https://localhost:8080/"
        },
        "id": "vRhq5j9aUX3u",
        "outputId": "74610dd0-f6bc-48fc-be16-c5242edf646b"
      },
      "outputs": [
        {
          "name": "stdout",
          "output_type": "stream",
          "text": [
            "코사인 유사도 연산 결과 : (330, 330)\n"
          ]
        }
      ],
      "source": [
        "cosine_sim = cosine_similarity(tfidf_matrix, tfidf_matrix)\n",
        "print('코사인 유사도 연산 결과 :',cosine_sim.shape)"
      ]
    },
    {
      "cell_type": "code",
      "execution_count": null,
      "metadata": {
        "id": "VwXgTLOOV-E0"
      },
      "outputs": [],
      "source": []
    },
    {
      "cell_type": "code",
      "execution_count": null,
      "metadata": {
        "id": "dgpPAmoiV-HE"
      },
      "outputs": [],
      "source": []
    },
    {
      "cell_type": "code",
      "execution_count": null,
      "metadata": {
        "id": "tQUUc-aiV-OV"
      },
      "outputs": [],
      "source": []
    },
    {
      "cell_type": "code",
      "execution_count": null,
      "metadata": {
        "id": "MQhxrADzJjbU"
      },
      "outputs": [],
      "source": [
        "def get_recommendations(idx, cosine_sim=cosine_sim):\n",
        "    # 해당 기사와 모든 기사와의 유사도를 가져온다.\n",
        "    sim_scores = list(enumerate(cosine_sim[idx]))\n",
        "\n",
        "    # 유사도에 따라 기사들을 정렬한다.\n",
        "    sim_scores = sorted(sim_scores, key=lambda x: x[1], reverse=True)\n",
        "\n",
        "    # 가장 유사한 20개의 기사를 받아온다.\n",
        "    sim_scores = sim_scores[1:21]\n",
        "\n",
        "    # 가장 유사한 20개의 기사의 인덱스를 얻는다.\n",
        "    movie_indices = [idx[0] for idx in sim_scores]\n",
        "\n",
        "    # 가장 유사한 20개의 기사내용과 유사도를 리턴한다.\n",
        "    similar_articles = data[['main', 'section']].iloc[movie_indices]\n",
        "    similar_articles['similarity'] = [idx[1] for idx in sim_scores]\n",
        "\n",
        "    return similar_articles"
      ]
    },
    {
      "cell_type": "code",
      "execution_count": null,
      "metadata": {
        "colab": {
          "base_uri": "https://localhost:8080/",
          "height": 80
        },
        "id": "-ndDbpKzYCFL",
        "outputId": "e56e164a-cd98-4bf2-802a-a38404a02c8a"
      },
      "outputs": [
        {
          "data": {
            "text/html": [
              "\n",
              "  <div id=\"df-146cae90-0dd0-41ab-95e7-4d794e6df635\">\n",
              "    <div class=\"colab-df-container\">\n",
              "      <div>\n",
              "<style scoped>\n",
              "    .dataframe tbody tr th:only-of-type {\n",
              "        vertical-align: middle;\n",
              "    }\n",
              "\n",
              "    .dataframe tbody tr th {\n",
              "        vertical-align: top;\n",
              "    }\n",
              "\n",
              "    .dataframe thead th {\n",
              "        text-align: right;\n",
              "    }\n",
              "</style>\n",
              "<table border=\"1\" class=\"dataframe\">\n",
              "  <thead>\n",
              "    <tr style=\"text-align: right;\">\n",
              "      <th></th>\n",
              "      <th>main</th>\n",
              "      <th>section</th>\n",
              "    </tr>\n",
              "  </thead>\n",
              "  <tbody>\n",
              "    <tr>\n",
              "      <th>0</th>\n",
              "      <td>“간호법은 尹대통령 후보 시절 직접 약속한 법”\\n\\n\\n\\n박홍근 더불어민주당 원...</td>\n",
              "      <td>100</td>\n",
              "    </tr>\n",
              "  </tbody>\n",
              "</table>\n",
              "</div>\n",
              "      <button class=\"colab-df-convert\" onclick=\"convertToInteractive('df-146cae90-0dd0-41ab-95e7-4d794e6df635')\"\n",
              "              title=\"Convert this dataframe to an interactive table.\"\n",
              "              style=\"display:none;\">\n",
              "        \n",
              "  <svg xmlns=\"http://www.w3.org/2000/svg\" height=\"24px\"viewBox=\"0 0 24 24\"\n",
              "       width=\"24px\">\n",
              "    <path d=\"M0 0h24v24H0V0z\" fill=\"none\"/>\n",
              "    <path d=\"M18.56 5.44l.94 2.06.94-2.06 2.06-.94-2.06-.94-.94-2.06-.94 2.06-2.06.94zm-11 1L8.5 8.5l.94-2.06 2.06-.94-2.06-.94L8.5 2.5l-.94 2.06-2.06.94zm10 10l.94 2.06.94-2.06 2.06-.94-2.06-.94-.94-2.06-.94 2.06-2.06.94z\"/><path d=\"M17.41 7.96l-1.37-1.37c-.4-.4-.92-.59-1.43-.59-.52 0-1.04.2-1.43.59L10.3 9.45l-7.72 7.72c-.78.78-.78 2.05 0 2.83L4 21.41c.39.39.9.59 1.41.59.51 0 1.02-.2 1.41-.59l7.78-7.78 2.81-2.81c.8-.78.8-2.07 0-2.86zM5.41 20L4 18.59l7.72-7.72 1.47 1.35L5.41 20z\"/>\n",
              "  </svg>\n",
              "      </button>\n",
              "      \n",
              "  <style>\n",
              "    .colab-df-container {\n",
              "      display:flex;\n",
              "      flex-wrap:wrap;\n",
              "      gap: 12px;\n",
              "    }\n",
              "\n",
              "    .colab-df-convert {\n",
              "      background-color: #E8F0FE;\n",
              "      border: none;\n",
              "      border-radius: 50%;\n",
              "      cursor: pointer;\n",
              "      display: none;\n",
              "      fill: #1967D2;\n",
              "      height: 32px;\n",
              "      padding: 0 0 0 0;\n",
              "      width: 32px;\n",
              "    }\n",
              "\n",
              "    .colab-df-convert:hover {\n",
              "      background-color: #E2EBFA;\n",
              "      box-shadow: 0px 1px 2px rgba(60, 64, 67, 0.3), 0px 1px 3px 1px rgba(60, 64, 67, 0.15);\n",
              "      fill: #174EA6;\n",
              "    }\n",
              "\n",
              "    [theme=dark] .colab-df-convert {\n",
              "      background-color: #3B4455;\n",
              "      fill: #D2E3FC;\n",
              "    }\n",
              "\n",
              "    [theme=dark] .colab-df-convert:hover {\n",
              "      background-color: #434B5C;\n",
              "      box-shadow: 0px 1px 3px 1px rgba(0, 0, 0, 0.15);\n",
              "      filter: drop-shadow(0px 1px 2px rgba(0, 0, 0, 0.3));\n",
              "      fill: #FFFFFF;\n",
              "    }\n",
              "  </style>\n",
              "\n",
              "      <script>\n",
              "        const buttonEl =\n",
              "          document.querySelector('#df-146cae90-0dd0-41ab-95e7-4d794e6df635 button.colab-df-convert');\n",
              "        buttonEl.style.display =\n",
              "          google.colab.kernel.accessAllowed ? 'block' : 'none';\n",
              "\n",
              "        async function convertToInteractive(key) {\n",
              "          const element = document.querySelector('#df-146cae90-0dd0-41ab-95e7-4d794e6df635');\n",
              "          const dataTable =\n",
              "            await google.colab.kernel.invokeFunction('convertToInteractive',\n",
              "                                                     [key], {});\n",
              "          if (!dataTable) return;\n",
              "\n",
              "          const docLinkHtml = 'Like what you see? Visit the ' +\n",
              "            '<a target=\"_blank\" href=https://colab.research.google.com/notebooks/data_table.ipynb>data table notebook</a>'\n",
              "            + ' to learn more about interactive tables.';\n",
              "          element.innerHTML = '';\n",
              "          dataTable['output_type'] = 'display_data';\n",
              "          await google.colab.output.renderOutput(dataTable, element);\n",
              "          const docLink = document.createElement('div');\n",
              "          docLink.innerHTML = docLinkHtml;\n",
              "          element.appendChild(docLink);\n",
              "        }\n",
              "      </script>\n",
              "    </div>\n",
              "  </div>\n",
              "  "
            ],
            "text/plain": [
              "                                                main section\n",
              "0  “간호법은 尹대통령 후보 시절 직접 약속한 법”\\n\\n\\n\\n박홍근 더불어민주당 원...     100"
            ]
          },
          "execution_count": 22,
          "metadata": {},
          "output_type": "execute_result"
        }
      ],
      "source": [
        "data[0:1]"
      ]
    },
    {
      "cell_type": "code",
      "execution_count": null,
      "metadata": {
        "colab": {
          "base_uri": "https://localhost:8080/",
          "height": 803
        },
        "id": "izR7WO6WfHvR",
        "outputId": "4aed9702-6af4-41c4-89c0-72cb6717fa47"
      },
      "outputs": [
        {
          "name": "stdout",
          "output_type": "stream",
          "text": [
            "찾으려는 기사의 인덱스를 입력하세요: 10\n",
            "해당 기사: \n",
            "main       국민의힘 김기현 대표가 13일 서울 여의도 국회에서 열린 최고위원회의에서 모두발언을...\n",
            "section                                                  100\n",
            "Name: 10, dtype: object\n",
            "\n",
            "유사 기사:\n"
          ]
        },
        {
          "data": {
            "text/html": [
              "\n",
              "  <div id=\"df-a3a3ab52-1acb-4662-8213-1bfee5f13d38\">\n",
              "    <div class=\"colab-df-container\">\n",
              "      <div>\n",
              "<style scoped>\n",
              "    .dataframe tbody tr th:only-of-type {\n",
              "        vertical-align: middle;\n",
              "    }\n",
              "\n",
              "    .dataframe tbody tr th {\n",
              "        vertical-align: top;\n",
              "    }\n",
              "\n",
              "    .dataframe thead th {\n",
              "        text-align: right;\n",
              "    }\n",
              "</style>\n",
              "<table border=\"1\" class=\"dataframe\">\n",
              "  <thead>\n",
              "    <tr style=\"text-align: right;\">\n",
              "      <th></th>\n",
              "      <th>main</th>\n",
              "      <th>section</th>\n",
              "      <th>similarity</th>\n",
              "    </tr>\n",
              "  </thead>\n",
              "  <tbody>\n",
              "    <tr>\n",
              "      <th>38</th>\n",
              "      <td>신임 원내대표 맞춰 주요 당직자 임명…당무감사위원장에 신의진\\n\\n\\n\\n행안부 '...</td>\n",
              "      <td>100</td>\n",
              "      <td>0.381573</td>\n",
              "    </tr>\n",
              "    <tr>\n",
              "      <th>121</th>\n",
              "      <td>민주당 전현직 대표, 檢 수사선상 올라야권 인사 줄줄이 수사대상 포함될 듯내년 총선...</td>\n",
              "      <td>102</td>\n",
              "      <td>0.149558</td>\n",
              "    </tr>\n",
              "    <tr>\n",
              "      <th>8</th>\n",
              "      <td>의원 20명 비례대표·선거구 등 해법 제시…\"국회 불신 종식\" \"행정부 견제는 누가...</td>\n",
              "      <td>100</td>\n",
              "      <td>0.125705</td>\n",
              "    </tr>\n",
              "    <tr>\n",
              "      <th>17</th>\n",
              "      <td>성역없는 엄정한 검찰수사 촉구…\"송영길 사과하고 자진 조사 받아야\"(서울=연합뉴스)...</td>\n",
              "      <td>100</td>\n",
              "      <td>0.104583</td>\n",
              "    </tr>\n",
              "    <tr>\n",
              "      <th>78</th>\n",
              "      <td>중기중앙회, 이철우 경북도지사 초청 간담회 열어\\n\\n\\n\\n경북도 제공중소기업중앙...</td>\n",
              "      <td>101</td>\n",
              "      <td>0.104251</td>\n",
              "    </tr>\n",
              "    <tr>\n",
              "      <th>28</th>\n",
              "      <td>\"송영길, 돈봉투 오간 사실 모를 수 없어\"\\n\\n\\n\\n국민의힘 김기현 대표가 1...</td>\n",
              "      <td>100</td>\n",
              "      <td>0.103076</td>\n",
              "    </tr>\n",
              "    <tr>\n",
              "      <th>145</th>\n",
              "      <td>검찰, 의원 사무실 등 강제수사검찰이 12일 더불어민주당 전당대회에서 불법 정치자금...</td>\n",
              "      <td>102</td>\n",
              "      <td>0.099166</td>\n",
              "    </tr>\n",
              "    <tr>\n",
              "      <th>24</th>\n",
              "      <td>국민의힘 싱크탱크인 여의도연구원은 오늘(13일) 이사회를 열고 국민의힘 윤창현 의원...</td>\n",
              "      <td>100</td>\n",
              "      <td>0.094883</td>\n",
              "    </tr>\n",
              "    <tr>\n",
              "      <th>36</th>\n",
              "      <td>검찰, 돈 전달 정황 담긴 녹취 확보... 윤관석 의원 \"검찰의 정치기획 수사\"\\n...</td>\n",
              "      <td>100</td>\n",
              "      <td>0.092243</td>\n",
              "    </tr>\n",
              "    <tr>\n",
              "      <th>173</th>\n",
              "      <td>중국발 황사가 한반도에 유입돼 전국 대부분 지역에 미세먼지경보 및 황사위기경보가 발...</td>\n",
              "      <td>103</td>\n",
              "      <td>0.090736</td>\n",
              "    </tr>\n",
              "    <tr>\n",
              "      <th>27</th>\n",
              "      <td>13일 여의도연구원 이사회서 정책부원장 최종 의결\\n\\n\\n\\n윤창현 국민의힘 의원...</td>\n",
              "      <td>100</td>\n",
              "      <td>0.087009</td>\n",
              "    </tr>\n",
              "    <tr>\n",
              "      <th>47</th>\n",
              "      <td>국민의힘 비공개 최고위원회의서 의결홍준표, 김기현 지도부 수차례 비판해와[이데일리 ...</td>\n",
              "      <td>100</td>\n",
              "      <td>0.074712</td>\n",
              "    </tr>\n",
              "    <tr>\n",
              "      <th>13</th>\n",
              "      <td>당대표 비판 선 넘었다 판단 “정치력 없는 대통령” 발언도홍준표 “엉뚱한 데 화풀이...</td>\n",
              "      <td>100</td>\n",
              "      <td>0.070236</td>\n",
              "    </tr>\n",
              "    <tr>\n",
              "      <th>41</th>\n",
              "      <td>290표 중 찬성 177표, 반대 112표 무효 1표가결 요건 충족 못해 차동 폐기...</td>\n",
              "      <td>100</td>\n",
              "      <td>0.069375</td>\n",
              "    </tr>\n",
              "    <tr>\n",
              "      <th>144</th>\n",
              "      <td>이성만 더불어민주당 의원. 뉴스1       이성만 더불어민주당 의원은 12일 검찰...</td>\n",
              "      <td>102</td>\n",
              "      <td>0.063275</td>\n",
              "    </tr>\n",
              "    <tr>\n",
              "      <th>40</th>\n",
              "      <td>민주당, 의사일정 변경 신청해 의결국민의힘 \"협치 내팽겨쳤다\" 반발국회는 23일 열...</td>\n",
              "      <td>100</td>\n",
              "      <td>0.060610</td>\n",
              "    </tr>\n",
              "    <tr>\n",
              "      <th>15</th>\n",
              "      <td>윤석열 대통령이 재의요구권(거부권)을 행사한 양곡관리법 개정안이 13일 다시 국회 ...</td>\n",
              "      <td>100</td>\n",
              "      <td>0.060537</td>\n",
              "    </tr>\n",
              "    <tr>\n",
              "      <th>6</th>\n",
              "      <td>[KBS 부산]더불어민주당이 어제(11일), 산업은행 노조와 함께 기자회견을 열고,...</td>\n",
              "      <td>100</td>\n",
              "      <td>0.058585</td>\n",
              "    </tr>\n",
              "    <tr>\n",
              "      <th>34</th>\n",
              "      <td>찬성 177표, 반대 112표로 재의결 조건 못 맞춰\\n\\n\\n\\n13일 오후 열린...</td>\n",
              "      <td>100</td>\n",
              "      <td>0.056704</td>\n",
              "    </tr>\n",
              "    <tr>\n",
              "      <th>1</th>\n",
              "      <td>국민의힘 김기현 대표가 홍준표 대구시장을 당 상임고문직에서 해촉했습니다.김 대표는 ...</td>\n",
              "      <td>100</td>\n",
              "      <td>0.056635</td>\n",
              "    </tr>\n",
              "  </tbody>\n",
              "</table>\n",
              "</div>\n",
              "      <button class=\"colab-df-convert\" onclick=\"convertToInteractive('df-a3a3ab52-1acb-4662-8213-1bfee5f13d38')\"\n",
              "              title=\"Convert this dataframe to an interactive table.\"\n",
              "              style=\"display:none;\">\n",
              "        \n",
              "  <svg xmlns=\"http://www.w3.org/2000/svg\" height=\"24px\"viewBox=\"0 0 24 24\"\n",
              "       width=\"24px\">\n",
              "    <path d=\"M0 0h24v24H0V0z\" fill=\"none\"/>\n",
              "    <path d=\"M18.56 5.44l.94 2.06.94-2.06 2.06-.94-2.06-.94-.94-2.06-.94 2.06-2.06.94zm-11 1L8.5 8.5l.94-2.06 2.06-.94-2.06-.94L8.5 2.5l-.94 2.06-2.06.94zm10 10l.94 2.06.94-2.06 2.06-.94-2.06-.94-.94-2.06-.94 2.06-2.06.94z\"/><path d=\"M17.41 7.96l-1.37-1.37c-.4-.4-.92-.59-1.43-.59-.52 0-1.04.2-1.43.59L10.3 9.45l-7.72 7.72c-.78.78-.78 2.05 0 2.83L4 21.41c.39.39.9.59 1.41.59.51 0 1.02-.2 1.41-.59l7.78-7.78 2.81-2.81c.8-.78.8-2.07 0-2.86zM5.41 20L4 18.59l7.72-7.72 1.47 1.35L5.41 20z\"/>\n",
              "  </svg>\n",
              "      </button>\n",
              "      \n",
              "  <style>\n",
              "    .colab-df-container {\n",
              "      display:flex;\n",
              "      flex-wrap:wrap;\n",
              "      gap: 12px;\n",
              "    }\n",
              "\n",
              "    .colab-df-convert {\n",
              "      background-color: #E8F0FE;\n",
              "      border: none;\n",
              "      border-radius: 50%;\n",
              "      cursor: pointer;\n",
              "      display: none;\n",
              "      fill: #1967D2;\n",
              "      height: 32px;\n",
              "      padding: 0 0 0 0;\n",
              "      width: 32px;\n",
              "    }\n",
              "\n",
              "    .colab-df-convert:hover {\n",
              "      background-color: #E2EBFA;\n",
              "      box-shadow: 0px 1px 2px rgba(60, 64, 67, 0.3), 0px 1px 3px 1px rgba(60, 64, 67, 0.15);\n",
              "      fill: #174EA6;\n",
              "    }\n",
              "\n",
              "    [theme=dark] .colab-df-convert {\n",
              "      background-color: #3B4455;\n",
              "      fill: #D2E3FC;\n",
              "    }\n",
              "\n",
              "    [theme=dark] .colab-df-convert:hover {\n",
              "      background-color: #434B5C;\n",
              "      box-shadow: 0px 1px 3px 1px rgba(0, 0, 0, 0.15);\n",
              "      filter: drop-shadow(0px 1px 2px rgba(0, 0, 0, 0.3));\n",
              "      fill: #FFFFFF;\n",
              "    }\n",
              "  </style>\n",
              "\n",
              "      <script>\n",
              "        const buttonEl =\n",
              "          document.querySelector('#df-a3a3ab52-1acb-4662-8213-1bfee5f13d38 button.colab-df-convert');\n",
              "        buttonEl.style.display =\n",
              "          google.colab.kernel.accessAllowed ? 'block' : 'none';\n",
              "\n",
              "        async function convertToInteractive(key) {\n",
              "          const element = document.querySelector('#df-a3a3ab52-1acb-4662-8213-1bfee5f13d38');\n",
              "          const dataTable =\n",
              "            await google.colab.kernel.invokeFunction('convertToInteractive',\n",
              "                                                     [key], {});\n",
              "          if (!dataTable) return;\n",
              "\n",
              "          const docLinkHtml = 'Like what you see? Visit the ' +\n",
              "            '<a target=\"_blank\" href=https://colab.research.google.com/notebooks/data_table.ipynb>data table notebook</a>'\n",
              "            + ' to learn more about interactive tables.';\n",
              "          element.innerHTML = '';\n",
              "          dataTable['output_type'] = 'display_data';\n",
              "          await google.colab.output.renderOutput(dataTable, element);\n",
              "          const docLink = document.createElement('div');\n",
              "          docLink.innerHTML = docLinkHtml;\n",
              "          element.appendChild(docLink);\n",
              "        }\n",
              "      </script>\n",
              "    </div>\n",
              "  </div>\n",
              "  "
            ],
            "text/plain": [
              "                                                  main section  similarity\n",
              "38   신임 원내대표 맞춰 주요 당직자 임명…당무감사위원장에 신의진\\n\\n\\n\\n행안부 '...     100    0.381573\n",
              "121  민주당 전현직 대표, 檢 수사선상 올라야권 인사 줄줄이 수사대상 포함될 듯내년 총선...     102    0.149558\n",
              "8    의원 20명 비례대표·선거구 등 해법 제시…\"국회 불신 종식\" \"행정부 견제는 누가...     100    0.125705\n",
              "17   성역없는 엄정한 검찰수사 촉구…\"송영길 사과하고 자진 조사 받아야\"(서울=연합뉴스)...     100    0.104583\n",
              "78   중기중앙회, 이철우 경북도지사 초청 간담회 열어\\n\\n\\n\\n경북도 제공중소기업중앙...     101    0.104251\n",
              "28   \"송영길, 돈봉투 오간 사실 모를 수 없어\"\\n\\n\\n\\n국민의힘 김기현 대표가 1...     100    0.103076\n",
              "145  검찰, 의원 사무실 등 강제수사검찰이 12일 더불어민주당 전당대회에서 불법 정치자금...     102    0.099166\n",
              "24   국민의힘 싱크탱크인 여의도연구원은 오늘(13일) 이사회를 열고 국민의힘 윤창현 의원...     100    0.094883\n",
              "36   검찰, 돈 전달 정황 담긴 녹취 확보... 윤관석 의원 \"검찰의 정치기획 수사\"\\n...     100    0.092243\n",
              "173  중국발 황사가 한반도에 유입돼 전국 대부분 지역에 미세먼지경보 및 황사위기경보가 발...     103    0.090736\n",
              "27   13일 여의도연구원 이사회서 정책부원장 최종 의결\\n\\n\\n\\n윤창현 국민의힘 의원...     100    0.087009\n",
              "47   국민의힘 비공개 최고위원회의서 의결홍준표, 김기현 지도부 수차례 비판해와[이데일리 ...     100    0.074712\n",
              "13   당대표 비판 선 넘었다 판단 “정치력 없는 대통령” 발언도홍준표 “엉뚱한 데 화풀이...     100    0.070236\n",
              "41   290표 중 찬성 177표, 반대 112표 무효 1표가결 요건 충족 못해 차동 폐기...     100    0.069375\n",
              "144  이성만 더불어민주당 의원. 뉴스1       이성만 더불어민주당 의원은 12일 검찰...     102    0.063275\n",
              "40   민주당, 의사일정 변경 신청해 의결국민의힘 \"협치 내팽겨쳤다\" 반발국회는 23일 열...     100    0.060610\n",
              "15   윤석열 대통령이 재의요구권(거부권)을 행사한 양곡관리법 개정안이 13일 다시 국회 ...     100    0.060537\n",
              "6    [KBS 부산]더불어민주당이 어제(11일), 산업은행 노조와 함께 기자회견을 열고,...     100    0.058585\n",
              "34   찬성 177표, 반대 112표로 재의결 조건 못 맞춰\\n\\n\\n\\n13일 오후 열린...     100    0.056704\n",
              "1    국민의힘 김기현 대표가 홍준표 대구시장을 당 상임고문직에서 해촉했습니다.김 대표는 ...     100    0.056635"
            ]
          },
          "execution_count": 20,
          "metadata": {},
          "output_type": "execute_result"
        }
      ],
      "source": [
        "goal = int(input(\"찾으려는 기사의 인덱스를 입력하세요: \"))\n",
        "print(\"해당 기사: \")\n",
        "print(data.loc[goal])\n",
        "print(\"\\n유사 기사:\")\n",
        "ans = get_recommendations(goal)\n",
        "ans"
      ]
    },
    {
      "cell_type": "code",
      "execution_count": null,
      "metadata": {
        "colab": {
          "base_uri": "https://localhost:8080/"
        },
        "id": "_fRTVwGdfbse",
        "outputId": "d169d747-597c-4e93-a5f1-fb1b75d4712c"
      },
      "outputs": [
        {
          "name": "stdout",
          "output_type": "stream",
          "text": [
            "100 \n",
            "\n"
          ]
        },
        {
          "data": {
            "text/plain": [
              "100    15\n",
              "102     3\n",
              "101     1\n",
              "103     1\n",
              "Name: section, dtype: int64"
            ]
          },
          "execution_count": 93,
          "metadata": {},
          "output_type": "execute_result"
        }
      ],
      "source": [
        "print(data.loc[goal, 'section'],\"\\n\")\n",
        "ans['section'].value_counts()"
      ]
    },
    {
      "cell_type": "code",
      "execution_count": null,
      "metadata": {
        "colab": {
          "base_uri": "https://localhost:8080/"
        },
        "id": "oYW26A0AiUIl",
        "outputId": "fda5d43b-8018-48a3-86a0-c552ba239eaf"
      },
      "outputs": [
        {
          "data": {
            "text/plain": [
              "pandas.core.frame.DataFrame"
            ]
          },
          "execution_count": 81,
          "metadata": {},
          "output_type": "execute_result"
        }
      ],
      "source": [
        "type(ans)"
      ]
    },
    {
      "cell_type": "code",
      "execution_count": null,
      "metadata": {
        "id": "_VIsCIeOgw5v"
      },
      "outputs": [],
      "source": []
    }
  ],
  "metadata": {
    "accelerator": "GPU",
    "colab": {
      "provenance": []
    },
    "kernelspec": {
      "display_name": "Python 3",
      "name": "python3"
    },
    "language_info": {
      "name": "python"
    }
  },
  "nbformat": 4,
  "nbformat_minor": 0
}
