{
  "nbformat": 4,
  "nbformat_minor": 0,
  "metadata": {
    "colab": {
      "provenance": []
    },
    "kernelspec": {
      "name": "python3",
      "display_name": "Python 3"
    },
    "language_info": {
      "name": "python"
    }
  },
  "cells": [
    {
      "cell_type": "code",
      "source": [
        "from google.colab import drive\n",
        "drive.mount('/content/drive')"
      ],
      "metadata": {
        "colab": {
          "base_uri": "https://localhost:8080/"
        },
        "id": "UmODZzynZmTv",
        "outputId": "a7b6e20e-6d4f-4c3b-83cd-b3c670a285c4"
      },
      "execution_count": null,
      "outputs": [
        {
          "output_type": "stream",
          "name": "stdout",
          "text": [
            "Drive already mounted at /content/drive; to attempt to forcibly remount, call drive.mount(\"/content/drive\", force_remount=True).\n"
          ]
        }
      ]
    },
    {
      "cell_type": "code",
      "source": [
        "!pip install tensorflow"
      ],
      "metadata": {
        "id": "5KOXTWTOR-E4",
        "colab": {
          "base_uri": "https://localhost:8080/"
        },
        "outputId": "ae7e9150-ae7e-4512-c0de-d7ff3c283ba2"
      },
      "execution_count": null,
      "outputs": [
        {
          "output_type": "stream",
          "name": "stdout",
          "text": [
            "Looking in indexes: https://pypi.org/simple, https://us-python.pkg.dev/colab-wheels/public/simple/\n",
            "Requirement already satisfied: tensorflow in /usr/local/lib/python3.10/dist-packages (2.12.0)\n",
            "Requirement already satisfied: absl-py>=1.0.0 in /usr/local/lib/python3.10/dist-packages (from tensorflow) (1.4.0)\n",
            "Requirement already satisfied: astunparse>=1.6.0 in /usr/local/lib/python3.10/dist-packages (from tensorflow) (1.6.3)\n",
            "Requirement already satisfied: flatbuffers>=2.0 in /usr/local/lib/python3.10/dist-packages (from tensorflow) (23.3.3)\n",
            "Requirement already satisfied: gast<=0.4.0,>=0.2.1 in /usr/local/lib/python3.10/dist-packages (from tensorflow) (0.4.0)\n",
            "Requirement already satisfied: google-pasta>=0.1.1 in /usr/local/lib/python3.10/dist-packages (from tensorflow) (0.2.0)\n",
            "Requirement already satisfied: grpcio<2.0,>=1.24.3 in /usr/local/lib/python3.10/dist-packages (from tensorflow) (1.54.0)\n",
            "Requirement already satisfied: h5py>=2.9.0 in /usr/local/lib/python3.10/dist-packages (from tensorflow) (3.8.0)\n",
            "Requirement already satisfied: jax>=0.3.15 in /usr/local/lib/python3.10/dist-packages (from tensorflow) (0.4.10)\n",
            "Requirement already satisfied: keras<2.13,>=2.12.0 in /usr/local/lib/python3.10/dist-packages (from tensorflow) (2.12.0)\n",
            "Requirement already satisfied: libclang>=13.0.0 in /usr/local/lib/python3.10/dist-packages (from tensorflow) (16.0.0)\n",
            "Requirement already satisfied: numpy<1.24,>=1.22 in /usr/local/lib/python3.10/dist-packages (from tensorflow) (1.22.4)\n",
            "Requirement already satisfied: opt-einsum>=2.3.2 in /usr/local/lib/python3.10/dist-packages (from tensorflow) (3.3.0)\n",
            "Requirement already satisfied: packaging in /usr/local/lib/python3.10/dist-packages (from tensorflow) (23.1)\n",
            "Requirement already satisfied: protobuf!=4.21.0,!=4.21.1,!=4.21.2,!=4.21.3,!=4.21.4,!=4.21.5,<5.0.0dev,>=3.20.3 in /usr/local/lib/python3.10/dist-packages (from tensorflow) (3.20.3)\n",
            "Requirement already satisfied: setuptools in /usr/local/lib/python3.10/dist-packages (from tensorflow) (67.7.2)\n",
            "Requirement already satisfied: six>=1.12.0 in /usr/local/lib/python3.10/dist-packages (from tensorflow) (1.16.0)\n",
            "Requirement already satisfied: tensorboard<2.13,>=2.12 in /usr/local/lib/python3.10/dist-packages (from tensorflow) (2.12.2)\n",
            "Requirement already satisfied: tensorflow-estimator<2.13,>=2.12.0 in /usr/local/lib/python3.10/dist-packages (from tensorflow) (2.12.0)\n",
            "Requirement already satisfied: termcolor>=1.1.0 in /usr/local/lib/python3.10/dist-packages (from tensorflow) (2.3.0)\n",
            "Requirement already satisfied: typing-extensions>=3.6.6 in /usr/local/lib/python3.10/dist-packages (from tensorflow) (4.5.0)\n",
            "Requirement already satisfied: wrapt<1.15,>=1.11.0 in /usr/local/lib/python3.10/dist-packages (from tensorflow) (1.14.1)\n",
            "Requirement already satisfied: tensorflow-io-gcs-filesystem>=0.23.1 in /usr/local/lib/python3.10/dist-packages (from tensorflow) (0.32.0)\n",
            "Requirement already satisfied: wheel<1.0,>=0.23.0 in /usr/local/lib/python3.10/dist-packages (from astunparse>=1.6.0->tensorflow) (0.40.0)\n",
            "Requirement already satisfied: ml-dtypes>=0.1.0 in /usr/local/lib/python3.10/dist-packages (from jax>=0.3.15->tensorflow) (0.1.0)\n",
            "Requirement already satisfied: scipy>=1.7 in /usr/local/lib/python3.10/dist-packages (from jax>=0.3.15->tensorflow) (1.10.1)\n",
            "Requirement already satisfied: google-auth<3,>=1.6.3 in /usr/local/lib/python3.10/dist-packages (from tensorboard<2.13,>=2.12->tensorflow) (2.17.3)\n",
            "Requirement already satisfied: google-auth-oauthlib<1.1,>=0.5 in /usr/local/lib/python3.10/dist-packages (from tensorboard<2.13,>=2.12->tensorflow) (1.0.0)\n",
            "Requirement already satisfied: markdown>=2.6.8 in /usr/local/lib/python3.10/dist-packages (from tensorboard<2.13,>=2.12->tensorflow) (3.4.3)\n",
            "Requirement already satisfied: requests<3,>=2.21.0 in /usr/local/lib/python3.10/dist-packages (from tensorboard<2.13,>=2.12->tensorflow) (2.27.1)\n",
            "Requirement already satisfied: tensorboard-data-server<0.8.0,>=0.7.0 in /usr/local/lib/python3.10/dist-packages (from tensorboard<2.13,>=2.12->tensorflow) (0.7.0)\n",
            "Requirement already satisfied: tensorboard-plugin-wit>=1.6.0 in /usr/local/lib/python3.10/dist-packages (from tensorboard<2.13,>=2.12->tensorflow) (1.8.1)\n",
            "Requirement already satisfied: werkzeug>=1.0.1 in /usr/local/lib/python3.10/dist-packages (from tensorboard<2.13,>=2.12->tensorflow) (2.3.0)\n",
            "Requirement already satisfied: cachetools<6.0,>=2.0.0 in /usr/local/lib/python3.10/dist-packages (from google-auth<3,>=1.6.3->tensorboard<2.13,>=2.12->tensorflow) (5.3.0)\n",
            "Requirement already satisfied: pyasn1-modules>=0.2.1 in /usr/local/lib/python3.10/dist-packages (from google-auth<3,>=1.6.3->tensorboard<2.13,>=2.12->tensorflow) (0.3.0)\n",
            "Requirement already satisfied: rsa<5,>=3.1.4 in /usr/local/lib/python3.10/dist-packages (from google-auth<3,>=1.6.3->tensorboard<2.13,>=2.12->tensorflow) (4.9)\n",
            "Requirement already satisfied: requests-oauthlib>=0.7.0 in /usr/local/lib/python3.10/dist-packages (from google-auth-oauthlib<1.1,>=0.5->tensorboard<2.13,>=2.12->tensorflow) (1.3.1)\n",
            "Requirement already satisfied: urllib3<1.27,>=1.21.1 in /usr/local/lib/python3.10/dist-packages (from requests<3,>=2.21.0->tensorboard<2.13,>=2.12->tensorflow) (1.26.15)\n",
            "Requirement already satisfied: certifi>=2017.4.17 in /usr/local/lib/python3.10/dist-packages (from requests<3,>=2.21.0->tensorboard<2.13,>=2.12->tensorflow) (2022.12.7)\n",
            "Requirement already satisfied: charset-normalizer~=2.0.0 in /usr/local/lib/python3.10/dist-packages (from requests<3,>=2.21.0->tensorboard<2.13,>=2.12->tensorflow) (2.0.12)\n",
            "Requirement already satisfied: idna<4,>=2.5 in /usr/local/lib/python3.10/dist-packages (from requests<3,>=2.21.0->tensorboard<2.13,>=2.12->tensorflow) (3.4)\n",
            "Requirement already satisfied: MarkupSafe>=2.1.1 in /usr/local/lib/python3.10/dist-packages (from werkzeug>=1.0.1->tensorboard<2.13,>=2.12->tensorflow) (2.1.2)\n",
            "Requirement already satisfied: pyasn1<0.6.0,>=0.4.6 in /usr/local/lib/python3.10/dist-packages (from pyasn1-modules>=0.2.1->google-auth<3,>=1.6.3->tensorboard<2.13,>=2.12->tensorflow) (0.5.0)\n",
            "Requirement already satisfied: oauthlib>=3.0.0 in /usr/local/lib/python3.10/dist-packages (from requests-oauthlib>=0.7.0->google-auth-oauthlib<1.1,>=0.5->tensorboard<2.13,>=2.12->tensorflow) (3.2.2)\n"
          ]
        }
      ]
    },
    {
      "cell_type": "code",
      "source": [
        "import numpy as np\n",
        "import pandas as pd\n",
        "import tensorflow as tf\n",
        "from tensorflow.keras.preprocessing.text import Tokenizer\n",
        "from tensorflow.keras.preprocessing.sequence import pad_sequences\n",
        "from tensorflow.keras.models import Sequential\n",
        "from tensorflow.keras.layers import Embedding, Conv1D, GlobalMaxPooling1D, Dense\n",
        "from tensorflow.keras.callbacks import EarlyStopping\n",
        "from sklearn.model_selection import train_test_split\n",
        "import keras\n",
        "\n",
        "df=pd.read_excel('/content/drive/MyDrive/[텍스트분석] 팀 프로젝트/dataset/article_df_final.xlsx', engine='openpyxl')\n",
        "X = df['main']\n",
        "y = df['section']\n",
        "X_train, X_test, y_train, y_test = train_test_split(X, y, test_size=0.3, random_state=1, shuffle=True)\n",
        "\n",
        "# 2. 데이터 전처리\n",
        "# 텍스트를 숫자 형태로 변환\n",
        "tokenizer = Tokenizer(num_words=5000)\n",
        "tokenizer.fit_on_texts(X_train)\n",
        "X_train = tokenizer.texts_to_sequences(X_train)\n",
        "X_test = tokenizer.texts_to_sequences(X_test)\n",
        "\n",
        "# 시퀀스 패딩\n",
        "max_len = 1000  # 시퀀스 길이를 맞추기 위한 최대 길이\n",
        "X_train = pad_sequences(X_train, maxlen=max_len)\n",
        "X_test = pad_sequences(X_test, maxlen=max_len)\n",
        "\n",
        "# 기사 카테고리를 원-핫 인코딩\n",
        "\n",
        "from keras.utils import to_categorical\n",
        "y_train=y_train-100\n",
        "y_test=y_test-100\n",
        "# 레이블 데이터를 원-핫 인코딩으로 변환\n",
        "y_train = to_categorical(y_train,6)\n",
        "y_test = to_categorical(y_test, 6)\n",
        "\n",
        "# 3. 모델 구축\n",
        "model = keras.Sequential()\n",
        "model.add(keras.layers.Embedding(10000, 64, input_length=max_len))\n",
        "model.add(keras.layers.Conv1D(128, 5, activation='relu'))\n",
        "model.add(keras.layers.GlobalMaxPooling1D())\n",
        "model.add(keras.layers.Dense(64, activation='relu'))\n",
        "model.add(keras.layers.Dense(6, activation='softmax'))\n",
        "\n",
        "# 4. 모델 훈련\n",
        "model.compile(optimizer='adam', loss='categorical_crossentropy', metrics=['accuracy'])\n",
        "model.fit(X_train, y_train, epochs=10, batch_size=32)\n",
        "\n",
        "# 5. 모델 평가\n",
        "loss, accuracy = model.evaluate(X_test, y_test)\n",
        "print(\"Test Loss:\", loss)\n",
        "print(\"Test Accuracy:\", accuracy)\n",
        "\n",
        "# 6. 새로운 기사 분류\n",
        "def predict_category(news_text):\n",
        "    # 입력 기사 텍스트를 숫자 형태로 변환\n",
        "    news_seq = tokenizer.texts_to_sequences([news_text])\n",
        "    # 시퀀스 패딩\n",
        "    news_seq = pad_sequences(news_seq, maxlen=max_len)\n",
        "    # 카테고리 예측\n",
        "    predicted_prob = model.predict(news_seq)[0]\n",
        "    predicted_category = np.argmax(predicted_prob)\n",
        "    return predicted_category\n",
        "\n",
        "# 새로운 기사 입력\n",
        "news = \"LG에너지솔루션의 4번째 JV 파트너는 현대자동차그룹이었다. 2009년 현대차그룹의 첫 친환경차 아반떼 LPi 하이브리드 배터리 공급으로 시작된 양사의 파트너십이 인도네시아에 이어 미국 JV로 이어졌다.\"\n",
        "predicted_category = predict_category(news)\n",
        "print(\"\\nPredicted Category:\", predicted_category+100)\n",
        "if (predicted_category+100)== 100:\n",
        "  print(\"정치\")\n",
        "elif  (predicted_category+100)== 101:\n",
        "  print(\"경제\")\n",
        "elif  (predicted_category+100)== 102:\n",
        "  print(\"사회\")\n",
        "elif  (predicted_category+100)== 103:\n",
        "  print(\"생활/문화\")\n",
        "elif  (predicted_category+100)== 104:\n",
        "  print(\"세계\")\n",
        "elif  (predicted_category+100)== 105:\n",
        "  print(\"IT/과학\")\n"
      ],
      "metadata": {
        "colab": {
          "base_uri": "https://localhost:8080/"
        },
        "id": "Twc5jcBpdd_M",
        "outputId": "457f17ad-5e3e-4aef-c4e6-c77f998b56ff"
      },
      "execution_count": null,
      "outputs": [
        {
          "output_type": "stream",
          "name": "stdout",
          "text": [
            "Epoch 1/10\n",
            "33/33 [==============================] - 7s 193ms/step - loss: 1.7705 - accuracy: 0.2705\n",
            "Epoch 2/10\n",
            "33/33 [==============================] - 9s 263ms/step - loss: 1.5808 - accuracy: 0.6038\n",
            "Epoch 3/10\n",
            "33/33 [==============================] - 10s 298ms/step - loss: 1.1326 - accuracy: 0.8695\n",
            "Epoch 4/10\n",
            "33/33 [==============================] - 7s 201ms/step - loss: 0.5726 - accuracy: 0.9333\n",
            "Epoch 5/10\n",
            "33/33 [==============================] - 8s 247ms/step - loss: 0.2386 - accuracy: 0.9657\n",
            "Epoch 6/10\n",
            "33/33 [==============================] - 7s 200ms/step - loss: 0.0874 - accuracy: 0.9905\n",
            "Epoch 7/10\n",
            "33/33 [==============================] - 8s 248ms/step - loss: 0.0355 - accuracy: 0.9990\n",
            "Epoch 8/10\n",
            "33/33 [==============================] - 7s 195ms/step - loss: 0.0186 - accuracy: 1.0000\n",
            "Epoch 9/10\n",
            "33/33 [==============================] - 8s 246ms/step - loss: 0.0120 - accuracy: 1.0000\n",
            "Epoch 10/10\n",
            "33/33 [==============================] - 7s 199ms/step - loss: 0.0086 - accuracy: 1.0000\n",
            "15/15 [==============================] - 1s 49ms/step - loss: 0.4303 - accuracy: 0.8800\n",
            "Test Loss: 0.4303286075592041\n",
            "Test Accuracy: 0.8799999952316284\n",
            "1/1 [==============================] - 0s 76ms/step\n",
            "\n",
            "Predicted Category: 101\n",
            "경제\n"
          ]
        }
      ]
    },
    {
      "cell_type": "code",
      "source": [
        "#roc곡선(다중 클래스라 보류)\n",
        "from sklearn.metrics import roc_curve, auc\n",
        "import matplotlib.pyplot as plt\n",
        "y_pred = model.predict(X_test)\n",
        "fpr, tpr, _ = roc_curve(y_test[:, 1], y_pred[:, 1])\n",
        "roc_auc = auc(fpr, tpr)\n",
        "plt.figure(figsize=(8, 6))\n",
        "plt.plot(fpr, tpr, color='blue', lw=2, label='cnn model' % roc_auc)\n",
        "plt.plot([0, 1], [0, 1], color='gray', lw=2, linestyle='--')\n",
        "plt.xlim([0.0, 1.0])\n",
        "plt.ylim([0.0, 1.05])\n",
        "plt.xlabel('False Positive Rate')\n",
        "plt.ylabel('True Positive Rate')\n",
        "plt.title('Receiver Operating Characteristic')\n",
        "plt.legend(loc='lower right')\n",
        "plt.show()\n"
      ],
      "metadata": {
        "colab": {
          "base_uri": "https://localhost:8080/",
          "height": 582
        },
        "id": "rULRLaMZsmff",
        "outputId": "bbb85c6c-e144-4202-e6d0-a06a52d61352"
      },
      "execution_count": null,
      "outputs": [
        {
          "output_type": "stream",
          "name": "stdout",
          "text": [
            "15/15 [==============================] - 1s 79ms/step\n"
          ]
        },
        {
          "output_type": "display_data",
          "data": {
            "text/plain": [
              "<Figure size 800x600 with 1 Axes>"
            ],
            "image/png": "[encoded data removed]"
          },
          "metadata": {}
        }
      ]
    },
    {
      "cell_type": "code",
      "source": [],
      "metadata": {
        "id": "EX_74nfBpIGs"
      },
      "execution_count": null,
      "outputs": []
    },
    {
      "cell_type": "code",
      "source": [],
      "metadata": {
        "id": "8b7VwRILpILJ"
      },
      "execution_count": null,
      "outputs": []
    },
    {
      "cell_type": "code",
      "source": [],
      "metadata": {
        "id": "YSijML_-pIT4"
      },
      "execution_count": null,
      "outputs": []
    },
    {
      "cell_type": "code",
      "source": [
        "#cnn모델 성능향상하기위해 드롭아웃 레이어 추가\n",
        "\n",
        "import numpy as np\n",
        "import pandas as pd\n",
        "import tensorflow as tf\n",
        "from tensorflow.keras.preprocessing.text import Tokenizer\n",
        "from tensorflow.keras.preprocessing.sequence import pad_sequences\n",
        "from tensorflow.keras.models import Sequential\n",
        "from tensorflow.keras.layers import Embedding, Conv1D, GlobalMaxPooling1D, Dense, Dropout\n",
        "from tensorflow.keras.callbacks import EarlyStopping\n",
        "from sklearn.model_selection import train_test_split\n",
        "\n",
        "df = pd.read_excel('/content/drive/MyDrive/[텍스트분석] 팀 프로젝트/dataset/article_df_final.xlsx', engine='openpyxl')\n",
        "X = df['main']\n",
        "y = df['section']-100\n",
        "X_train, X_test, y_train, y_test = train_test_split(X, y, test_size=0.3, random_state=1, shuffle=True)\n",
        "\n",
        "# 텍스트를 숫자 형태로 변환\n",
        "tokenizer = Tokenizer(num_words=5000)\n",
        "tokenizer.fit_on_texts(X_train)\n",
        "X_train = tokenizer.texts_to_sequences(X_train)\n",
        "X_test = tokenizer.texts_to_sequences(X_test)\n",
        "\n",
        "# 시퀀스 패딩\n",
        "max_len = 1000\n",
        "X_train = pad_sequences(X_train, maxlen=max_len)\n",
        "X_test = pad_sequences(X_test, maxlen=max_len)\n",
        "\n",
        "# 레이블 데이터를 원-핫 인코딩\n",
        "from tensorflow.keras.utils import to_categorical\n",
        "num_classes = len(df['section'].unique())\n",
        "y_train = to_categorical(y_train, num_classes)\n",
        "y_test = to_categorical(y_test, num_classes)\n",
        "\n",
        "# 모델 구축\n",
        "model = Sequential()\n",
        "model.add(Embedding(10000, 64, input_length=max_len))\n",
        "model.add(Conv1D(128, 5, activation='relu'))\n",
        "model.add(GlobalMaxPooling1D())\n",
        "model.add(Dense(64, activation='relu'))\n",
        "model.add(Dropout(0.5))  # 드롭아웃 추가\n",
        "model.add(Dense(num_classes, activation='softmax'))\n",
        "\n",
        "# 모델 컴파일 및 학습\n",
        "model.compile(optimizer='adam', loss='categorical_crossentropy', metrics=['accuracy'])\n",
        "model.fit(X_train, y_train, epochs=10, batch_size=32, validation_data=(X_test, y_test))\n",
        "\n",
        "# 모델 평가\n",
        "loss, accuracy = model.evaluate(X_test, y_test)\n",
        "print(\"Test Loss:\", loss)\n",
        "print(\"Test Accuracy:\", accuracy)\n",
        "\n",
        "\n",
        "\n",
        "# 6. 새로운 기사 분류\n",
        "def predict_category(news_text):\n",
        "    # 입력 기사 텍스트를 숫자 형태로 변환\n",
        "    news_seq = tokenizer.texts_to_sequences([news_text])\n",
        "    # 시퀀스 패딩\n",
        "    news_seq = pad_sequences(news_seq, maxlen=max_len)\n",
        "    # 카테고리 예측\n",
        "    predicted_prob = model.predict(news_seq)[0]\n",
        "    predicted_category = np.argmax(predicted_prob)\n",
        "    return predicted_category\n",
        "\n",
        "# 새로운 기사 입력\n",
        "#news = \"LG에너지솔루션의 4번째 JV 파트너는 현대자동차그룹이었다. 2009년 현대차그룹의 첫 친환경차 아반떼 LPi 하이브리드 배터리 공급으로 시작된 양사의 파트너십이 인도네시아에 이어 미국 JV로 이어졌다.\"\n",
        "news = 'SK하이닉스가 일반 소비자들을 대상으로 한 휴대용 솔리드스테이트드라이브(SSD) ‘비틀 X31’을 국내 시장에 공개했다고 5일 밝혔다. 비틀 X31은 SK하이닉스의 첫번째 외장형 SSD 제품이다. 황금색 금속 알루미늄 외관에 이름처럼 딱정벌레를 닮은 디자인이 특징이다. 이 제품은 11번가 등 온라인 판매 업체를 통해 지난달 국내 시장에 공개된 후 1차 입고 물량이 하루 만에 완판될 정도로 인기를 끌고 있다. 초당 10기가비트(Gbps)의 동작 속도와 효과적인 발열 관리 성능이 인기 비결로 꼽힌다. SK하이닉스에 따르면 이 제품은 순차 읽기 최대 초당 1050메가바이트(MB/s), 순차 쓰기 최대 초당 1000MB/s의 처리 속도를 구현했다. 이는 1기가바이트(GB) 크기의 파일을 1초 만에 옮길 수 있는 속도다. 특히 발열을 안정적으로 관리하면서 데이터 저장 속도를 최상으로 유지하는 기술이 돋보인다. SK하이닉스 측은 “500GB의 데이터를 평균 900MB/s 이상으로 속도를 유지하면서 9분 이내로 이동할 수 있다”고 강조했다. 알루미늄 외관 케이스를 채택해 방열 효과와 내구성을 확보했다. 내부 기준으로 2m 낙하 테스트를 거쳐 물리적 충격에 대한 내구성을 검증했다. 제품 보증을 3년 간 지원해 소비자 신뢰성 역시 높였다. 한 손에 들어오는 크기와 딱정벌레를 연상시키는 개성있는 디자인 역시 소비자들 사이 인기다. 53g의 초경량, 74x46x14.8밀리미터㎜의 초소형 사이즈로 휴대성을 높였다. 비틀 X31은 IBM PC와 애플의 맥(Mac), 태블릿, 안드로이드 기반 스마트폰, 게임 콘솔 등 다양한 장치와 호환된다. 용량은 512GB, 1테라바이트(TB), 두 가지 종류로 출시됐다. USB 연결 케이블 2종(C-to-C, C-to-A)과 함께 전용 범퍼케이스가 제공된다. 박찬동 SK하이닉스 낸드 마케팅 담당 부사장은 “X31을 시작으로 국내 시장에 이어 해외 시장까지, 포터블 SSD 시장 트렌드를 선도해 갈 것”이라고 말했다.'\n",
        "\n",
        "predicted_category = predict_category(news)\n",
        "print(\"\\nPredicted Category:\", predicted_category+100)\n",
        "if (predicted_category+100)== 100:\n",
        "  print(\"정치\")\n",
        "elif  (predicted_category+100)== 101:\n",
        "  print(\"경제\")\n",
        "elif  (predicted_category+100)== 102:\n",
        "  print(\"사회\")\n",
        "elif  (predicted_category+100)== 103:\n",
        "  print(\"생활/문화\")\n",
        "elif  (predicted_category+100)== 104:\n",
        "  print(\"세계\")\n",
        "elif  (predicted_category+100)== 105:\n",
        "  print(\"IT/과학\")\n"
      ],
      "metadata": {
        "colab": {
          "base_uri": "https://localhost:8080/"
        },
        "id": "MRm5vrDhZc9n",
        "outputId": "c4be6e22-9dab-4524-c229-873a33d11a1f"
      },
      "execution_count": null,
      "outputs": [
        {
          "output_type": "stream",
          "name": "stdout",
          "text": [
            "Epoch 1/10\n",
            "33/33 [==============================] - 12s 338ms/step - loss: 1.7849 - accuracy: 0.1838 - val_loss: 1.7606 - val_accuracy: 0.5022\n",
            "Epoch 2/10\n",
            "33/33 [==============================] - 8s 243ms/step - loss: 1.6972 - accuracy: 0.4686 - val_loss: 1.6741 - val_accuracy: 0.5867\n",
            "Epoch 3/10\n",
            "33/33 [==============================] - 10s 310ms/step - loss: 1.4830 - accuracy: 0.6038 - val_loss: 1.3924 - val_accuracy: 0.7889\n",
            "Epoch 4/10\n",
            "33/33 [==============================] - 11s 334ms/step - loss: 1.1115 - accuracy: 0.7410 - val_loss: 1.0343 - val_accuracy: 0.8222\n",
            "Epoch 5/10\n",
            "33/33 [==============================] - 8s 252ms/step - loss: 0.7126 - accuracy: 0.8676 - val_loss: 0.7642 - val_accuracy: 0.8356\n",
            "Epoch 6/10\n",
            "33/33 [==============================] - 11s 323ms/step - loss: 0.4269 - accuracy: 0.9181 - val_loss: 0.5895 - val_accuracy: 0.8533\n",
            "Epoch 7/10\n",
            "33/33 [==============================] - 10s 314ms/step - loss: 0.2518 - accuracy: 0.9552 - val_loss: 0.5181 - val_accuracy: 0.8733\n",
            "Epoch 8/10\n",
            "33/33 [==============================] - 8s 253ms/step - loss: 0.1567 - accuracy: 0.9838 - val_loss: 0.4799 - val_accuracy: 0.8822\n",
            "Epoch 9/10\n",
            "33/33 [==============================] - 10s 308ms/step - loss: 0.0999 - accuracy: 0.9905 - val_loss: 0.4734 - val_accuracy: 0.8844\n",
            "Epoch 10/10\n",
            "33/33 [==============================] - 11s 324ms/step - loss: 0.0691 - accuracy: 0.9914 - val_loss: 0.4610 - val_accuracy: 0.8800\n",
            "15/15 [==============================] - 1s 52ms/step - loss: 0.4610 - accuracy: 0.8800\n"
          ]
        },
        {
          "output_type": "stream",
          "name": "stderr",
          "text": [
            "WARNING:tensorflow:5 out of the last 5 calls to <function Model.make_predict_function.<locals>.predict_function at 0x7f6552469e10> triggered tf.function retracing. Tracing is expensive and the excessive number of tracings could be due to (1) creating @tf.function repeatedly in a loop, (2) passing tensors with different shapes, (3) passing Python objects instead of tensors. For (1), please define your @tf.function outside of the loop. For (2), @tf.function has reduce_retracing=True option that can avoid unnecessary retracing. For (3), please refer to https://www.tensorflow.org/guide/function#controlling_retracing and https://www.tensorflow.org/api_docs/python/tf/function for  more details.\n"
          ]
        },
        {
          "output_type": "stream",
          "name": "stdout",
          "text": [
            "Test Loss: 0.46104303002357483\n",
            "Test Accuracy: 0.8799999952316284\n",
            "1/1 [==============================] - 0s 82ms/step\n",
            "\n",
            "Predicted Category: 101\n",
            "경제\n"
          ]
        }
      ]
    },
    {
      "cell_type": "code",
      "source": [],
      "metadata": {
        "id": "VLqMPzYOhbHQ"
      },
      "execution_count": null,
      "outputs": []
    },
    {
      "cell_type": "code",
      "source": [],
      "metadata": {
        "id": "UEBNA6esTbUg"
      },
      "execution_count": null,
      "outputs": []
    }
  ]
}
